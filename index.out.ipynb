{
 "cells": [
  {
   "cell_type": "markdown",
   "metadata": {},
   "source": [
    "# Economic Complexity of Australian Regions\n",
    "\n",
    "Hamish Gamble [![](data:image/png;base64,iVBORw0KGgoAAAANSUhEUgAAABAAAAAQCAYAAAAf8/9hAAAAGXRFWHRTb2Z0d2FyZQBBZG9iZSBJbWFnZVJlYWR5ccllPAAAA2ZpVFh0WE1MOmNvbS5hZG9iZS54bXAAAAAAADw/eHBhY2tldCBiZWdpbj0i77u/IiBpZD0iVzVNME1wQ2VoaUh6cmVTek5UY3prYzlkIj8+IDx4OnhtcG1ldGEgeG1sbnM6eD0iYWRvYmU6bnM6bWV0YS8iIHg6eG1wdGs9IkFkb2JlIFhNUCBDb3JlIDUuMC1jMDYwIDYxLjEzNDc3NywgMjAxMC8wMi8xMi0xNzozMjowMCAgICAgICAgIj4gPHJkZjpSREYgeG1sbnM6cmRmPSJodHRwOi8vd3d3LnczLm9yZy8xOTk5LzAyLzIyLXJkZi1zeW50YXgtbnMjIj4gPHJkZjpEZXNjcmlwdGlvbiByZGY6YWJvdXQ9IiIgeG1sbnM6eG1wTU09Imh0dHA6Ly9ucy5hZG9iZS5jb20veGFwLzEuMC9tbS8iIHhtbG5zOnN0UmVmPSJodHRwOi8vbnMuYWRvYmUuY29tL3hhcC8xLjAvc1R5cGUvUmVzb3VyY2VSZWYjIiB4bWxuczp4bXA9Imh0dHA6Ly9ucy5hZG9iZS5jb20veGFwLzEuMC8iIHhtcE1NOk9yaWdpbmFsRG9jdW1lbnRJRD0ieG1wLmRpZDo1N0NEMjA4MDI1MjA2ODExOTk0QzkzNTEzRjZEQTg1NyIgeG1wTU06RG9jdW1lbnRJRD0ieG1wLmRpZDozM0NDOEJGNEZGNTcxMUUxODdBOEVCODg2RjdCQ0QwOSIgeG1wTU06SW5zdGFuY2VJRD0ieG1wLmlpZDozM0NDOEJGM0ZGNTcxMUUxODdBOEVCODg2RjdCQ0QwOSIgeG1wOkNyZWF0b3JUb29sPSJBZG9iZSBQaG90b3Nob3AgQ1M1IE1hY2ludG9zaCI+IDx4bXBNTTpEZXJpdmVkRnJvbSBzdFJlZjppbnN0YW5jZUlEPSJ4bXAuaWlkOkZDN0YxMTc0MDcyMDY4MTE5NUZFRDc5MUM2MUUwNEREIiBzdFJlZjpkb2N1bWVudElEPSJ4bXAuZGlkOjU3Q0QyMDgwMjUyMDY4MTE5OTRDOTM1MTNGNkRBODU3Ii8+IDwvcmRmOkRlc2NyaXB0aW9uPiA8L3JkZjpSREY+IDwveDp4bXBtZXRhPiA8P3hwYWNrZXQgZW5kPSJyIj8+84NovQAAAR1JREFUeNpiZEADy85ZJgCpeCB2QJM6AMQLo4yOL0AWZETSqACk1gOxAQN+cAGIA4EGPQBxmJA0nwdpjjQ8xqArmczw5tMHXAaALDgP1QMxAGqzAAPxQACqh4ER6uf5MBlkm0X4EGayMfMw/Pr7Bd2gRBZogMFBrv01hisv5jLsv9nLAPIOMnjy8RDDyYctyAbFM2EJbRQw+aAWw/LzVgx7b+cwCHKqMhjJFCBLOzAR6+lXX84xnHjYyqAo5IUizkRCwIENQQckGSDGY4TVgAPEaraQr2a4/24bSuoExcJCfAEJihXkWDj3ZAKy9EJGaEo8T0QSxkjSwORsCAuDQCD+QILmD1A9kECEZgxDaEZhICIzGcIyEyOl2RkgwAAhkmC+eAm0TAAAAABJRU5ErkJggg==)](https://orcid.org/0000-0003-1277-1227) (Flinders University)  \n",
    "Sharif Rasel (Flinders University)  \n",
    "July 23, 2024\n",
    "\n",
    "## 1 Introduction\n",
    "\n",
    "## 2 Literature Review\n",
    "\n",
    "César A. Hidalgo and Hausmann ([2009](#ref-hidalgo2009)) introduced the concept of economic complexity as a means of quantifying and explaining differences in the economic development trajectory of different countries. Their method used bilateral trade data to identify the network structure of countries and the products they export and built on the concept of relatedness introduced in C. A. Hidalgo et al. ([2007](#ref-hidalgo2007)). Economic complexity has been shown to be a positive predictor of Gross Domestic Product (GDP), and GDP growth. Increasing economic complexity has also been shown to decrease unemployment and increase employment Adam et al. ([2023](#ref-adam2023)), reduce green house gas emissions Romero and Gramkow ([2021](#ref-romero2021)) and reduce income inequality Hartmann et al. ([2017](#ref-hartmann2017)).\n",
    "\n",
    "Relatedness has since been applied across industry ([Neffke and Henning 2012](#ref-neffke2012)), research areas ([Guevara et al. 2016](#ref-guevara2016)), occupation ([Muneepeerakul et al. 2013](#ref-muneepeerakul2013)) and technology (patents) ([Kogler, Rigby, and Tucker 2013](#ref-kogler2013)).\n",
    "\n",
    "The relatedness approach has also been used to quantify economic complexity across cities, states, and regions, using employment dataChávez, Mosqueda, and Gómez-Zaldívar ([2017](#ref-ecmexico)), business counts([Gao and Zhou 2018](#ref-ecchina)), patent classifications ([Balland and Boschma 2021](#ref-balland2021)), and interstate and international trade data ([Reynolds et al. 2018](#ref-ecaus)).\n",
    "\n",
    "Despite differences in data sources, the method for calculating economic complexity in the literature is relatively standard. The presence of an activity in a region is often identified using a location quotient method, such that an activity is said to be present in a region if:\n",
    "\n",
    "$$\\frac{X_a^r/\\sum_{a}X_a^r}{\\sum_{r}X_a^r/\\sum_{r,a}X_a^r} \\geq 1$$\n",
    "\n",
    "Where $X$ is the measure of an activity $a$ in region $r$ - such as the level of employment in an occupation in a city, or the number of businesses classified in an industry in a province, or the value of exports of a product from a country. The location quotient method creates a binary matrix $M$ with $a$ rows and $r$ columns.\n",
    "\n",
    "### 2.1 Regional economic complexity of small areas\n",
    "\n",
    "The location quotient method can be unreliable due to the discontinuity at 1. This is especially relevant when economic complexity is calculated in regional areas where either $X_a^r$ or $\\frac{\\sum_{r}X_a^r}{\\sum_{r,a}X_a^r}$ are small. In these cases, small changes, or measurement error in $X_a^r$ can significantly change the location quotient.\n",
    "\n",
    "The choice of region size and activity classification is important. In a study of the economic complexity of US regions, Fritz and Manduca ([2021](#ref-ecus)) use metropolitan areas as the basis for calculations. Metropolitan areas in the United States are defined such that jobs within a given area are held by residents who live in that area.Metropolitan areas have a population of at least 50,000 people. The smallest MSA was estimated to have a 2023 population of 57,700 (about 0.015% of US population). They find a poor correlation between ECI calculated at higher level aggregated industry classifications indicating the importance of a high degree of disaggregation to provide as much information to the model as possible Fritz and Manduca ([2021](#ref-ecus)).\n",
    "\n",
    "In New Zealand, Davies and Maré ([2021](#ref-ecnz)) use weighted correlations of local employment shares. Regions range from a population of 1,434 to 573,150 with a mean population of 29,947 and median population of 6,952. Employment is measured as an industry-occupation pair.\n",
    "\n",
    "-   Differences in relationship between complexity and relatedness on indicators may be entirely context dependent.\n",
    "\n",
    "## 3 Data & Methods\n",
    "\n",
    "### 3.1 Data\n",
    "\n",
    "-   Calculate economic complexity indicators for Australian regions using employment data from the 2021 Census.\n",
    "\n",
    "-   Regions classified by Statistical Areas Level 3 (SA3)\n",
    "\n",
    "-   Economic activity classified by ANZSIC industry division and ANZSCO major group"
   ],
   "id": "9c536c99-8310-41db-8530-aadf5b107989"
  },
  {
   "cell_type": "code",
   "execution_count": null,
   "metadata": {},
   "outputs": [
    {
     "output_type": "stream",
     "name": "stderr",
     "text": [
      "── Attaching core tidyverse packages ──────────────────────── tidyverse 2.0.0 ──\n",
      "✔ dplyr     1.1.4     ✔ readr     2.1.5\n",
      "✔ forcats   1.0.0     ✔ stringr   1.5.1\n",
      "✔ ggplot2   3.5.1     ✔ tibble    3.2.1\n",
      "✔ lubridate 1.9.3     ✔ tidyr     1.3.1\n",
      "✔ purrr     1.0.2     \n",
      "── Conflicts ────────────────────────────────────────── tidyverse_conflicts() ──\n",
      "✖ dplyr::filter() masks stats::filter()\n",
      "✖ dplyr::lag()    masks stats::lag()\n",
      "ℹ Use the conflicted package (<http://conflicted.r-lib.org/>) to force all conflicts to become errors"
     ]
    },
    {
     "output_type": "stream",
     "name": "stderr",
     "text": [
      "\n",
      "Attaching package: 'economiccomplexity'\n",
      "\n",
      "The following object is masked from 'package:stats':\n",
      "\n",
      "    density"
     ]
    },
    {
     "output_type": "stream",
     "name": "stderr",
     "text": [
      "Linking to GEOS 3.12.1, GDAL 3.8.4, PROJ 9.3.1; sf_use_s2() is TRUE"
     ]
    },
    {
     "output_type": "stream",
     "name": "stderr",
     "text": [
      "\n",
      "Attaching package: 'tmap'\n",
      "\n",
      "The following object is masked from 'package:datasets':\n",
      "\n",
      "    rivers"
     ]
    },
    {
     "output_type": "stream",
     "name": "stderr",
     "text": [
      "Loading required package: spData\n",
      "To access larger datasets in this package, install the spDataLarge\n",
      "package with: `install.packages('spDataLarge',\n",
      "repos='https://nowosad.github.io/drat/', type='source')`"
     ]
    },
    {
     "output_type": "stream",
     "name": "stderr",
     "text": [
      "New names:\n",
      "• `` -> `...6`"
     ]
    },
    {
     "output_type": "stream",
     "name": "stderr",
     "text": [
      "Warning: One or more parsing issues, call `problems()` on your data frame for details,\n",
      "e.g.:\n",
      "  dat <- vroom(...)\n",
      "  problems(dat)"
     ]
    },
    {
     "output_type": "stream",
     "name": "stderr",
     "text": [
      "Rows: 99360 Columns: 4\n",
      "── Column specification ────────────────────────────────────────────────────────\n",
      "Delimiter: \",\"\n",
      "chr (3): 1-digit level OCCP Occupation, SA3 (POW), 1-digit level INDP Indust...\n",
      "dbl (1): Count\n",
      "\n",
      "ℹ Use `spec()` to retrieve the full column specification for this data.\n",
      "ℹ Specify the column types or set `show_col_types = FALSE` to quiet this message."
     ]
    }
   ],
   "source": [
    "library(tidyverse)"
   ],
   "id": "6d99be51-7199-4d8e-ac45-b408a7578457"
  },
  {
   "cell_type": "markdown",
   "metadata": {},
   "source": [
    "-   We exclude individuals who identify their place of work as a Migratory - Offshore - Shipping region or as No Fixed Address. Employment in these regions totals 497,913 or about 4% of the total sample.\n",
    "\n",
    "-   Following Davies and Maré ([2021](#ref-ecnz)), employment is aggregated into industry-occupation pairs, allowing for differentiation between, for example, managers working in agriculture, forestry, and fishing, and managers working in retail trade.\n",
    "\n",
    "-   Dataset covers 340 regions and 152 industry-occupations. <a href=\"#fig-employment-density\" class=\"quarto-xref\">Figure 1</a> shows the presence of any level of employment within a region and industry-occupation. As can be seen, there is a high level of employment density across our data, with 88.5% of all combinations of region, industry, and occupation."
   ],
   "id": "a885e25f-26c9-4abc-9080-d3a655766073"
  },
  {
   "cell_type": "code",
   "execution_count": null,
   "metadata": {},
   "outputs": [
    {
     "output_type": "display_data",
     "metadata": {},
     "data": {}
    }
   ],
   "source": [
    "pow_clean |> \n",
    "  mutate(presence = count > 0) |> \n",
    "  ggplot(aes(x = reorder(sa3, -sa3_size),\n",
    "             y = reorder(industry_occupation, -industry_occupation_size),\n",
    "             fill = presence)) +\n",
    "  geom_raster() +\n",
    "  labs(x = \"Region\",\n",
    "       y = \"Industry-Occupation\") +\n",
    "  scale_fill_manual(breaks = c(TRUE, FALSE),\n",
    "                    values = c(\"#3182db\", \"white\")) + \n",
    "  theme(axis.text = element_blank(),\n",
    "        axis.ticks = element_blank(),\n",
    "        panel.border = element_rect(fill = NA),\n",
    "        legend.position = \"none\") + \n",
    "  coord_equal()"
   ],
   "id": "cell-fig-employment-density"
  },
  {
   "cell_type": "markdown",
   "metadata": {},
   "source": [
    "### 3.2 Method\n",
    "\n",
    "This section follows the method of Davies and Maré ([2021](#ref-ecnz)) using correlations of employment shares rather than a location quotient method.\n",
    "\n",
    "#### 3.2.1 Relatedness\n",
    "\n",
    "Activities are related based on the weighted correlation between the local activity share of employment, weighted by each regions share of total employment.\n",
    "\n",
    "-   First calculate the weighted covariance\n",
    "\n",
    "$$\n",
    "cov_{aa} = \\sum_{c \\in C} (\\frac{E_c^{a_i}}{E_c}-\\frac{E^{a_i}}{E})(\\frac{E_c^{a_j}}{E_c}-\\frac{E^{a_j}}{E})\n",
    "$$\n",
    "\n",
    "-   Divide the weighted covariance by the city share-weighted standard deviations of the local activity shares to get the weighted correlation.\n",
    "\n",
    "-   Map the correlation to the interval $[0,1]$ such that:\n",
    "\n",
    "    $$\n",
    "    r_{aa} = \\frac{1}{2}(cor(a_i, a_j) + 1)\n",
    "    $$\n",
    "\n",
    "City relatedness is calculated symmetrically such that:\n",
    "\n",
    "$$\n",
    "r_{cc} = \\frac{1}{2}(cor(c_i, c_j) + 1)\n",
    "$$\n",
    "\n",
    "#### 3.2.2 Complexity\n",
    "\n",
    "Activity complexity is defined by the second eigenvector of the matrix $r_{aa}$ and city complexity is defined by the second eigenvector of the matrix $r_{cc}$. The sign of activity complexity is set such that it is positively correlated with the weighted mean size of cities that contain activity $a$, and the sign of city complexity is set such that it is positively correlated with the local share-weighted mean complexity of activities in city $c$"
   ],
   "id": "19056c7e-69ac-4ff6-911a-78b160899b38"
  },
  {
   "cell_type": "code",
   "execution_count": null,
   "metadata": {},
   "outputs": [],
   "source": [
    "# function to calculate complexity from a region * activity matrix m\n",
    "\n",
    "complexity_nz <- function(m, base_data) {\n",
    "  \n",
    "  activity_share <- m / rowSums(m)\n",
    "  national_share_employment <- rowSums(m) / sum(m)\n",
    "  \n",
    "  # Relatedness of activities is the weighted covariance between the local share vectors for activities i and j, \n",
    "  # weighted by each regions share of total employment.\n",
    "  \n",
    "  \n",
    "  r_aa <- 0.5*(cov.wt(x = activity_share, wt = national_share_employment, cor = TRUE)$cor + 1)\n",
    "  \n",
    "  \n",
    "  #Complexity of activity a is the element a of the standardized second eigenvector of the row-standardized relatedness matrix r.\n",
    "  complexity <- list()\n",
    "  complexity$activity <- Re(eigen(r_aa/rowSums(r_aa))$vector[,2])\n",
    "  complexity$activity  <- (complexity$activity  - mean(complexity$activity ))/sd(complexity$activity)\n",
    "  names(complexity$activity) <- colnames(m)\n",
    "  \n",
    "  #Complexity is positively correlated with the weighted mean size of cities that contain activity a\n",
    "  wmsc <- colSums(m/colSums(m)*rowSums(m))\n",
    "  \n",
    "  if (cor(complexity$activity , wmsc) < 0) {\n",
    "    complexity$activity  = -1*complexity$activity\n",
    "  } else complexity$activity  = complexity$activity \n",
    "  \n",
    "  message(glue::glue(\"most complex activity: {names(complexity$activity[complexity$activity == max(complexity$activity)])}\")) \n",
    "  \n",
    "  \n",
    "  # Relatedness of cities is symmetric to activities.\n",
    "  city_share <- t(m / rowSums(m))\n",
    "  national_share_activity <- colSums(m)/sum(m)\n",
    "  r_cc <- 0.5*(cov.wt(x = city_share, wt = national_share_activity, cor = TRUE)$cor + 1)\n",
    "  \n",
    "  complexity$city <- Re(eigen(r_cc/rowSums(r_cc))$vector[,2])\n",
    "  complexity$city <- (complexity$city- mean(complexity$city))/sd(complexity$city)\n",
    "  names(complexity$city) <- rownames(m)\n",
    "  \n",
    "  #City complexity is positively correlated with the local share weighted mean complexity of activities in city c.\n",
    "  wmc <- rowSums(m/colSums(m)*complexity$activity)\n",
    "  \n",
    "  if (cor(complexity$city, wmc) < 0 || complexity$city[\"Brisbane Inner\"] < 0) {\n",
    "    complexity$city = -1 * complexity$city\n",
    "    } else complexity$city = complexity$city\n",
    "  \n",
    "  message(glue::glue(\"most complex city: {names(complexity$city[complexity$city == max(complexity$city)])}\")) \n",
    "  \n",
    "  df.complexity <- inner_join(base_data, enframe(complexity$city, name = \"sa3\", value = \"city_complexity\")) |> \n",
    "    inner_join(enframe(complexity$activity, name = \"industry_occupation\", value = \"activity_complexity\"))\n",
    "  return(df.complexity)\n",
    "}"
   ],
   "id": "ffb446e2-c7b8-49a5-befc-d37f7e619630"
  },
  {
   "cell_type": "markdown",
   "metadata": {},
   "source": [
    "## 4 Results"
   ],
   "id": "219d2892-8e12-47ac-aa9d-50f59603578f"
  },
  {
   "cell_type": "code",
   "execution_count": null,
   "metadata": {},
   "outputs": [
    {
     "output_type": "stream",
     "name": "stderr",
     "text": [
      "most complex activity: Professional, Scientific and Technical Services (Professionals)"
     ]
    },
    {
     "output_type": "stream",
     "name": "stderr",
     "text": [
      "most complex city: Brisbane Inner"
     ]
    },
    {
     "output_type": "stream",
     "name": "stderr",
     "text": [
      "Joining with `by = join_by(sa3)`\n",
      "Joining with `by = join_by(industry_occupation)`"
     ]
    }
   ],
   "source": [
    "#|\n",
    "m <- pow_clean |> \n",
    "  pivot_wider(id_cols = sa3,\n",
    "              names_from = industry_occupation,\n",
    "              values_from = count) |> \n",
    "  column_to_rownames(var = \"sa3\") |> \n",
    "  as.matrix()\n",
    "\n",
    "complexity.df <- complexity_nz(m, base_data = pow_clean)"
   ],
   "id": "23cbb36f-1802-4662-8c11-c5b0343f6a92"
  },
  {
   "cell_type": "markdown",
   "metadata": {},
   "source": [
    "<a href=\"#fig-gcc-complexity\" class=\"quarto-xref\">Figure 2</a> shows the regional complexity of SA3 regions in Australian Greater Capital City Areas based on 2021 Census data. Complexity is highest in capital cities and surrounding regions."
   ],
   "id": "6a2cdca2-fafe-4a64-b26f-5578918f9d16"
  },
  {
   "cell_type": "code",
   "execution_count": null,
   "metadata": {},
   "outputs": [
    {
     "output_type": "stream",
     "name": "stderr",
     "text": [
      "Reading sa32021 file found in data"
     ]
    },
    {
     "output_type": "stream",
     "name": "stderr",
     "text": [
      "Variable(s) \"fill\" contains positive and negative values, so midpoint is set to 0. Set midpoint = NA to show the full spectrum of the color palette."
     ]
    },
    {
     "output_type": "display_data",
     "metadata": {},
     "data": {}
    }
   ],
   "source": [
    "city_complexity <- complexity.df |> \n",
    "  distinct(sa3, city_complexity) |> \n",
    "  left_join(read_absmap(\"sa32021\",\n",
    "                        export_dir = \"data\"),\n",
    "            by = c(\"sa3\" = \"sa3_name_2021\")) |> \n",
    "  st_as_sf()"
   ],
   "id": "cell-fig-gcc-complexity"
  },
  {
   "cell_type": "markdown",
   "metadata": {},
   "source": [
    "### 4.1 Spatial Correlation\n",
    "\n",
    "-   Is economic complexity correlated across space?"
   ],
   "id": "2a81e6fa-442b-4c51-8989-41c439809bf2"
  },
  {
   "cell_type": "code",
   "execution_count": null,
   "metadata": {},
   "outputs": [],
   "source": [
    "# first find the neighbours (using adacency)\n",
    "nb <- poly2nb(city_complexity, queen = TRUE)\n",
    "lw <- nb2listw(nb, style = \"W\", zero.policy = TRUE)\n",
    "\n",
    "moranI <- moran(city_complexity$city_complexity, listw = lw, n = length(nb), S0 = Szero(lw))\n",
    "\n",
    "moranIp <- moran.mc(city_complexity$city_complexity, lw, nsim = 1000)"
   ],
   "id": "907fa768-5aa0-4471-aa37-d6b3ed1e252b"
  },
  {
   "cell_type": "markdown",
   "metadata": {},
   "source": [
    "-   Global Moran’s I = 0.5007756 with a p.value of 0."
   ],
   "id": "b697e408-0b06-458a-b020-521dad2d5bcf"
  },
  {
   "cell_type": "code",
   "execution_count": null,
   "metadata": {},
   "outputs": [
    {
     "output_type": "display_data",
     "metadata": {},
     "data": {}
    }
   ],
   "source": [
    "MC.i <- localmoran_perm(city_complexity$city_complexity, lw, nsim = 9999) \n",
    "\n",
    "MC.i.df <- MC.i |> \n",
    "  as.data.frame() \n",
    "\n",
    "city_complexity$p <- MC.i.df$`Pr(folded) Sim`\n",
    "city_complexity$Ii <- hotspot(MC.i, \n",
    "                              Prname = \"Pr(folded) Sim\", \n",
    "                              cutoff = 0.05, \n",
    "                              p.adjust = \"fdr\")\n",
    "city_complexity$Ii <- factor(city_complexity$Ii, \n",
    "                             levels = c(\"High-High\",\n",
    "                                        \"Low-Low\",\n",
    "                                        \"Low-High\", \n",
    "                                        \"High-Low\",\n",
    "                                        \">0.05\"))\n",
    "city_complexity$Ii[is.na(city_complexity$Ii)] <- \">0.05\"\n",
    "\n",
    "pal2 <- c( \"#FF0000\", \"#0000FF\", \"#a7adf9\", \"#f4ada8\",\"#ededed\")\n",
    "\n",
    "tm_shape(city_complexity) + \n",
    "  tm_polygons(fill = \"Ii\",\n",
    "              fill.scale = tm_scale_categorical(values = pal2),\n",
    "              fill.legend = tm_legend(outside = TRUE, \n",
    "                                      text.size = 0.8),\n",
    "              col = \"grey80\",\n",
    "              lwd = 0.5) +\n",
    "  tm_layout(frame = FALSE) + \n",
    "  tm_facets(by = \"gcc_name_2021\")"
   ],
   "id": "cell-fig-complexity-hot-spots"
  },
  {
   "cell_type": "markdown",
   "metadata": {},
   "source": [
    "## 5 Conclusion\n",
    "\n",
    "## References\n",
    "\n",
    "Adam, Antonis, Antonios Garas, Marina-Selini Katsaiti, and Athanasios Lapatinas. 2023. “Economic Complexity and Jobs: An Empirical Analysis.” *Economics of Innovation and New Technology* 32 (1): 25–52. <https://doi.org/10.1080/10438599.2020.1859751>.\n",
    "\n",
    "Balland, Pierre-Alexandre, and Ron Boschma. 2021. “Mapping the Potentials of Regions in Europe to Contribute to New Knowledge Production in Industry 4.0 Technologies.” *Regional Studies* 55 (10-11): 1652–66. <https://doi.org/10.1080/00343404.2021.1900557>.\n",
    "\n",
    "Chávez, Juan Carlos, Marco T. Mosqueda, and Manuel Gómez-Zaldívar. 2017. “Economic Complexity and Regional Growth Performance: Evidence from the Mexican Economy.” *Review of Regional Studies* 47 (2): 201–19. <https://doi.org/10.52324/001c.8023>.\n",
    "\n",
    "Davies, Benjamin, and David C. Maré. 2021. “Relatedness, Complexity and Local Growth.” *Regional Studies* 55 (3): 479–94. <https://doi.org/10.1080/00343404.2020.1802418>.\n",
    "\n",
    "Fritz, Benedikt S. L., and Robert A. Manduca. 2021. “The Economic Complexity of US Metropolitan Areas.” *Regional Studies* 55 (7): 1299–1310. <https://doi.org/10.1080/00343404.2021.1884215>.\n",
    "\n",
    "Gao, Jian, and Tao Zhou. 2018. “Quantifying China’s Regional Economic Complexity.” *Physica A: Statistical Mechanics and Its Applications* 492: 1591–1603. https://doi.org/<https://doi.org/10.1016/j.physa.2017.11.084>.\n",
    "\n",
    "Guevara, Miguel R., Dominik Hartmann, Manuel Aristarán, Marcelo Mendoza, and César A. Hidalgo. 2016. “The Research Space: Using Career Paths to Predict the Evolution of the Research Output of Individuals, Institutions, and Nations.” *Scientometrics* 109 (3): 1695–1709. <https://doi.org/10.1007/s11192-016-2125-9>.\n",
    "\n",
    "Hartmann, Dominik, Miguel R. Guevara, Cristian Jara-Figueroa, Manuel Aristarán, and César A. Hidalgo. 2017. “Linking Economic Complexity, Institutions, and Income Inequality.” *World Development* 93 (May): 75–93. <https://doi.org/10.1016/j.worlddev.2016.12.020>.\n",
    "\n",
    "Hidalgo, C. A., B. Klinger, A.-L. Barabaśi, and R. Hausmann. 2007. “The Product Space Conditions the Development of Nations.” *Science* 317 (5837): 482–87. <https://doi.org/10.1126/science.1144581>.\n",
    "\n",
    "Hidalgo, César A., and Ricardo Hausmann. 2009. “The Building Blocks of Economic Complexity.” *Proceedings of the National Academy of Sciences* 106 (26): 10570–75. <https://doi.org/10.1073/pnas.0900943106>.\n",
    "\n",
    "Kogler, Dieter F., David L. Rigby, and Isaac Tucker. 2013. “Mapping Knowledge Space and Technological Relatedness in US Cities.” *European Planning Studies* 21 (9): 1374–91. <https://doi.org/10.1080/09654313.2012.755832>.\n",
    "\n",
    "Muneepeerakul, Rachata, José Lobo, Shade T. Shutters, Andrés Goméz-Liévano, and Murad R. Qubbaj. 2013. “Urban Economies and Occupation Space: Can They Get “There” from “Here”?” Edited by César A. Hidalgo. *PLoS ONE* 8 (9): e73676. <https://doi.org/10.1371/journal.pone.0073676>.\n",
    "\n",
    "Neffke, Frank, and Martin Henning. 2012. “Skill Relatedness and Firm Diversification.” *Strategic Management Journal* 34 (3): 297–316. <https://doi.org/10.1002/smj.2014>.\n",
    "\n",
    "Reynolds, Christian, Manju Agrawal, Ivan Lee, Chen Zhan, Jiuyong Li, Phillip Taylor, Tim Mares, Julian Morison, Nicholas Angelakis, and Göran Roos. 2018. “A Sub-National Economic Complexity Analysis of Australia’s States and Territories.” *Regional Studies* 52 (5): 715–26. <https://doi.org/10.1080/00343404.2017.1283012>.\n",
    "\n",
    "Romero, João P., and Camila Gramkow. 2021. “Economic Complexity and Greenhouse Gas Emissions.” *World Development* 139 (March): 105317. <https://doi.org/10.1016/j.worlddev.2020.105317>."
   ],
   "id": "c4b8d598-d0aa-4db8-aad3-3d742cb7cf11"
  }
 ],
 "nbformat": 4,
 "nbformat_minor": 5,
 "metadata": {}
}
