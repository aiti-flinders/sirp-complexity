{
 "cells": [
  {
   "cell_type": "markdown",
   "metadata": {},
   "source": [
    "# Economic Complexity of Australian Regions\n",
    "\n",
    "Hamish Gamble [![](data:image/png;base64,iVBORw0KGgoAAAANSUhEUgAAABAAAAAQCAYAAAAf8/9hAAAAGXRFWHRTb2Z0d2FyZQBBZG9iZSBJbWFnZVJlYWR5ccllPAAAA2ZpVFh0WE1MOmNvbS5hZG9iZS54bXAAAAAAADw/eHBhY2tldCBiZWdpbj0i77u/IiBpZD0iVzVNME1wQ2VoaUh6cmVTek5UY3prYzlkIj8+IDx4OnhtcG1ldGEgeG1sbnM6eD0iYWRvYmU6bnM6bWV0YS8iIHg6eG1wdGs9IkFkb2JlIFhNUCBDb3JlIDUuMC1jMDYwIDYxLjEzNDc3NywgMjAxMC8wMi8xMi0xNzozMjowMCAgICAgICAgIj4gPHJkZjpSREYgeG1sbnM6cmRmPSJodHRwOi8vd3d3LnczLm9yZy8xOTk5LzAyLzIyLXJkZi1zeW50YXgtbnMjIj4gPHJkZjpEZXNjcmlwdGlvbiByZGY6YWJvdXQ9IiIgeG1sbnM6eG1wTU09Imh0dHA6Ly9ucy5hZG9iZS5jb20veGFwLzEuMC9tbS8iIHhtbG5zOnN0UmVmPSJodHRwOi8vbnMuYWRvYmUuY29tL3hhcC8xLjAvc1R5cGUvUmVzb3VyY2VSZWYjIiB4bWxuczp4bXA9Imh0dHA6Ly9ucy5hZG9iZS5jb20veGFwLzEuMC8iIHhtcE1NOk9yaWdpbmFsRG9jdW1lbnRJRD0ieG1wLmRpZDo1N0NEMjA4MDI1MjA2ODExOTk0QzkzNTEzRjZEQTg1NyIgeG1wTU06RG9jdW1lbnRJRD0ieG1wLmRpZDozM0NDOEJGNEZGNTcxMUUxODdBOEVCODg2RjdCQ0QwOSIgeG1wTU06SW5zdGFuY2VJRD0ieG1wLmlpZDozM0NDOEJGM0ZGNTcxMUUxODdBOEVCODg2RjdCQ0QwOSIgeG1wOkNyZWF0b3JUb29sPSJBZG9iZSBQaG90b3Nob3AgQ1M1IE1hY2ludG9zaCI+IDx4bXBNTTpEZXJpdmVkRnJvbSBzdFJlZjppbnN0YW5jZUlEPSJ4bXAuaWlkOkZDN0YxMTc0MDcyMDY4MTE5NUZFRDc5MUM2MUUwNEREIiBzdFJlZjpkb2N1bWVudElEPSJ4bXAuZGlkOjU3Q0QyMDgwMjUyMDY4MTE5OTRDOTM1MTNGNkRBODU3Ii8+IDwvcmRmOkRlc2NyaXB0aW9uPiA8L3JkZjpSREY+IDwveDp4bXBtZXRhPiA8P3hwYWNrZXQgZW5kPSJyIj8+84NovQAAAR1JREFUeNpiZEADy85ZJgCpeCB2QJM6AMQLo4yOL0AWZETSqACk1gOxAQN+cAGIA4EGPQBxmJA0nwdpjjQ8xqArmczw5tMHXAaALDgP1QMxAGqzAAPxQACqh4ER6uf5MBlkm0X4EGayMfMw/Pr7Bd2gRBZogMFBrv01hisv5jLsv9nLAPIOMnjy8RDDyYctyAbFM2EJbRQw+aAWw/LzVgx7b+cwCHKqMhjJFCBLOzAR6+lXX84xnHjYyqAo5IUizkRCwIENQQckGSDGY4TVgAPEaraQr2a4/24bSuoExcJCfAEJihXkWDj3ZAKy9EJGaEo8T0QSxkjSwORsCAuDQCD+QILmD1A9kECEZgxDaEZhICIzGcIyEyOl2RkgwAAhkmC+eAm0TAAAAABJRU5ErkJggg==)](https://orcid.org/0000-0003-1277-1227) (Flinders University)  \n",
    "Sharif Rasel (Flinders University)  \n",
    "July 26, 2024\n",
    "\n",
    "## 1 Introduction\n",
    "\n",
    "## 2 Literature Review\n",
    "\n",
    "César A. Hidalgo and Hausmann ([2009](#ref-hidalgo2009)) introduced the concept of economic complexity as a means of quantifying and explaining differences in the economic development trajectory of different countries. Their method used bilateral trade data to identify the network structure of countries and the products they export and built on the concept of relatedness introduced in C. A. Hidalgo et al. ([2007](#ref-hidalgo2007)). Economic complexity has been shown to be a positive predictor of Gross Domestic Product (GDP), and GDP growth. Increasing economic complexity has also been shown to decrease unemployment and increase employment Adam et al. ([2023](#ref-adam2023)), reduce green house gas emissions Romero and Gramkow ([2021](#ref-romero2021)) and reduce income inequality Hartmann et al. ([2017](#ref-hartmann2017)).\n",
    "\n",
    "Relatedness has since been applied across industry ([Neffke and Henning 2012](#ref-neffke2012)), research areas ([Guevara et al. 2016](#ref-guevara2016)), occupation ([Muneepeerakul et al. 2013](#ref-muneepeerakul2013)) and technology (patents) ([Kogler, Rigby, and Tucker 2013](#ref-kogler2013)).\n",
    "\n",
    "The relatedness approach has also been used to quantify economic complexity across cities, states, and regions, using employment dataChávez, Mosqueda, and Gómez-Zaldívar ([2017](#ref-ecmexico)), business counts([Gao and Zhou 2018](#ref-ecchina)), patent classifications ([Balland and Boschma 2021](#ref-balland2021)), and interstate and international trade data ([Reynolds et al. 2018](#ref-ecaus)).\n",
    "\n",
    "Despite differences in data sources, the method for calculating economic complexity in the literature is relatively standard. The presence of an activity in a region is often identified using a location quotient method, such that an activity is said to be present in a region if:\n",
    "\n",
    "$$\\frac{X_a^r/\\sum_{a}X_a^r}{\\sum_{r}X_a^r/\\sum_{r,a}X_a^r} \\geq 1$$\n",
    "\n",
    "Where $X$ is the measure of an activity $a$ in region $r$ - such as the level of employment in an occupation in a city, or the number of businesses classified in an industry in a province, or the value of exports of a product from a country. The location quotient method creates a binary matrix $M$ with $a$ rows and $r$ columns.\n",
    "\n",
    "### 2.1 Regional economic complexity of small areas\n",
    "\n",
    "The location quotient method can be unreliable due to the discontinuity at 1. This is especially relevant when economic complexity is calculated in regional areas where either $X_a^r$ or $\\frac{\\sum_{r}X_a^r}{\\sum_{r,a}X_a^r}$ are small. In these cases, small changes, or measurement error in $X_a^r$ can significantly change the location quotient.\n",
    "\n",
    "The choice of region size and activity classification is important. In a study of the economic complexity of US regions, Fritz and Manduca ([2021](#ref-ecus)) use metropolitan areas as the basis for calculations. Metropolitan areas in the United States are defined such that jobs within a given area are held by residents who live in that area.Metropolitan areas have a population of at least 50,000 people. The smallest MSA was estimated to have a 2023 population of 57,700 (about 0.015% of US population). They find a poor correlation between ECI calculated at higher level aggregated industry classifications indicating the importance of a high degree of disaggregation to provide as much information to the model as possible Fritz and Manduca ([2021](#ref-ecus)).\n",
    "\n",
    "In New Zealand, Davies and Maré ([2021](#ref-ecnz)) use weighted correlations of local employment shares. Regions range from a population of 1,434 to 573,150 with a mean population of 29,947 and median population of 6,952. Employment is measured as an industry-occupation pair.\n",
    "\n",
    "-   Differences in relationship between complexity and relatedness on indicators may be entirely context dependent.\n",
    "\n",
    "## 3 Data & Methods\n",
    "\n",
    "### 3.1 Data\n",
    "\n",
    "-   Calculate economic complexity indicators for Australian regions using employment data from the 2021 Census.\n",
    "\n",
    "-   Regions classified by Statistical Areas Level 3 (SA3)\n",
    "\n",
    "-   Economic activity classified by ANZSIC industry division and ANZSCO major group"
   ],
   "id": "579859fc-3607-443f-aa39-15372d4a2a39"
  },
  {
   "cell_type": "code",
   "execution_count": null,
   "metadata": {},
   "outputs": [
    {
     "output_type": "stream",
     "name": "stderr",
     "text": [
      "Warning: package 'tidyverse' was built under R version 4.4.1"
     ]
    },
    {
     "output_type": "stream",
     "name": "stderr",
     "text": [
      "Warning: package 'ggplot2' was built under R version 4.4.1"
     ]
    },
    {
     "output_type": "stream",
     "name": "stderr",
     "text": [
      "Warning: package 'tibble' was built under R version 4.4.1"
     ]
    },
    {
     "output_type": "stream",
     "name": "stderr",
     "text": [
      "Warning: package 'tidyr' was built under R version 4.4.1"
     ]
    },
    {
     "output_type": "stream",
     "name": "stderr",
     "text": [
      "Warning: package 'readr' was built under R version 4.4.1"
     ]
    },
    {
     "output_type": "stream",
     "name": "stderr",
     "text": [
      "Warning: package 'purrr' was built under R version 4.4.1"
     ]
    },
    {
     "output_type": "stream",
     "name": "stderr",
     "text": [
      "Warning: package 'dplyr' was built under R version 4.4.1"
     ]
    },
    {
     "output_type": "stream",
     "name": "stderr",
     "text": [
      "Warning: package 'stringr' was built under R version 4.4.1"
     ]
    },
    {
     "output_type": "stream",
     "name": "stderr",
     "text": [
      "Warning: package 'forcats' was built under R version 4.4.1"
     ]
    },
    {
     "output_type": "stream",
     "name": "stderr",
     "text": [
      "Warning: package 'lubridate' was built under R version 4.4.1"
     ]
    },
    {
     "output_type": "stream",
     "name": "stderr",
     "text": [
      "── Attaching core tidyverse packages ──────────────────────── tidyverse 2.0.0 ──\n",
      "✔ dplyr     1.1.4     ✔ readr     2.1.5\n",
      "✔ forcats   1.0.0     ✔ stringr   1.5.1\n",
      "✔ ggplot2   3.5.1     ✔ tibble    3.2.1\n",
      "✔ lubridate 1.9.3     ✔ tidyr     1.3.1\n",
      "✔ purrr     1.0.2     \n",
      "── Conflicts ────────────────────────────────────────── tidyverse_conflicts() ──\n",
      "✖ dplyr::filter() masks stats::filter()\n",
      "✖ dplyr::lag()    masks stats::lag()\n",
      "ℹ Use the conflicted package (<http://conflicted.r-lib.org/>) to force all conflicts to become errors"
     ]
    },
    {
     "output_type": "stream",
     "name": "stderr",
     "text": [
      "Warning: package 'sf' was built under R version 4.4.1"
     ]
    },
    {
     "output_type": "stream",
     "name": "stderr",
     "text": [
      "Linking to GEOS 3.12.1, GDAL 3.8.4, PROJ 9.3.1; sf_use_s2() is TRUE"
     ]
    },
    {
     "output_type": "stream",
     "name": "stderr",
     "text": [
      "\n",
      "Attaching package: 'tmap'\n",
      "\n",
      "The following object is masked from 'package:datasets':\n",
      "\n",
      "    rivers"
     ]
    },
    {
     "output_type": "stream",
     "name": "stderr",
     "text": [
      "Warning: package 'spdep' was built under R version 4.4.1"
     ]
    },
    {
     "output_type": "stream",
     "name": "stderr",
     "text": [
      "Loading required package: spData"
     ]
    },
    {
     "output_type": "stream",
     "name": "stderr",
     "text": [
      "Warning: package 'spData' was built under R version 4.4.1"
     ]
    },
    {
     "output_type": "stream",
     "name": "stderr",
     "text": [
      "To access larger datasets in this package, install the spDataLarge\n",
      "package with: `install.packages('spDataLarge',\n",
      "repos='https://nowosad.github.io/drat/', type='source')`"
     ]
    },
    {
     "output_type": "stream",
     "name": "stderr",
     "text": [
      "Warning: package 'spatialreg' was built under R version 4.4.1"
     ]
    },
    {
     "output_type": "stream",
     "name": "stderr",
     "text": [
      "Loading required package: Matrix\n",
      "\n",
      "Attaching package: 'Matrix'\n",
      "\n",
      "The following objects are masked from 'package:tidyr':\n",
      "\n",
      "    expand, pack, unpack\n",
      "\n",
      "\n",
      "Attaching package: 'spatialreg'\n",
      "\n",
      "The following objects are masked from 'package:spdep':\n",
      "\n",
      "    get.ClusterOption, get.coresOption, get.mcOption,\n",
      "    get.VerboseOption, get.ZeroPolicyOption, set.ClusterOption,\n",
      "    set.coresOption, set.mcOption, set.VerboseOption,\n",
      "    set.ZeroPolicyOption"
     ]
    },
    {
     "output_type": "stream",
     "name": "stderr",
     "text": [
      "Warning: package 'huxtable' was built under R version 4.4.1"
     ]
    },
    {
     "output_type": "stream",
     "name": "stderr",
     "text": [
      "\n",
      "Attaching package: 'huxtable'\n",
      "\n",
      "The following object is masked from 'package:dplyr':\n",
      "\n",
      "    add_rownames\n",
      "\n",
      "The following object is masked from 'package:ggplot2':\n",
      "\n",
      "    theme_grey"
     ]
    },
    {
     "output_type": "stream",
     "name": "stderr",
     "text": [
      "Reading sa3_indp1_occp1 file found in data"
     ]
    },
    {
     "output_type": "stream",
     "name": "stderr",
     "text": [
      "Reading sa32021 file found in data"
     ]
    }
   ],
   "source": [
    "library(tidyverse)"
   ],
   "id": "59c42271-96e1-47c8-a2c0-3c4a82bb0f3b"
  },
  {
   "cell_type": "markdown",
   "metadata": {},
   "source": [
    "-   We exclude individuals who identify their place of work as a Migratory - Offshore - Shipping region or as No Fixed Address. Employment in these regions totals 497,913 or about 4% of the total sample.\n",
    "\n",
    "-   Following Davies and Maré ([2021](#ref-ecnz)), employment is aggregated into industry-occupation pairs, allowing for differentiation between, for example, managers working in agriculture, forestry, and fishing, and managers working in retail trade.\n",
    "\n",
    "-   Dataset covers 340 regions and 152 industry-occupations. <a href=\"#fig-employment-density\" class=\"quarto-xref\">Figure 1</a> shows the presence of any level of employment within a region and industry-occupation. As can be seen, there is a high level of employment density across our data, with 88.5% of all combinations of region, industry, and occupation."
   ],
   "id": "27042491-ed1a-4dc8-95f5-a0df5ddf9fce"
  },
  {
   "cell_type": "code",
   "execution_count": null,
   "metadata": {},
   "outputs": [
    {
     "output_type": "display_data",
     "metadata": {},
     "data": {}
    }
   ],
   "source": [
    "employment_density <- function(data, region, activity, flip = FALSE) {\n",
    "  region_size = paste0(region, \"_size\")\n",
    "  activity_size = paste0(activity, \"_size\")\n",
    "  \n",
    "  data |> \n",
    "    group_by(.data[[region]])  |> \n",
    "    mutate({{region_size}} := sum(count)) |> \n",
    "    group_by(.data[[activity]]) |> \n",
    "    mutate({{activity_size}} := sum(count)) |> \n",
    "    ungroup() |> \n",
    "    mutate(presence = count > 0,\n",
    "           {{region}} := fct_infreq(.data[[region]], w = .data[[region_size]]),\n",
    "           {{activity}} := fct_infreq(.data[[activity]], w = .data[[activity_size]])) |> \n",
    "    ggplot(aes(x = if(!flip) .data[[region]] else .data[[activity]],\n",
    "               y = if(!flip) .data[[activity]] else .data[[region]],\n",
    "               fill = presence)) + \n",
    "    geom_raster() + \n",
    "    scale_fill_manual(breaks = c(TRUE, FALSE),\n",
    "                      values = c(\"#3182db\", \"white\")) + \n",
    "  theme(axis.text = element_blank(),\n",
    "        axis.ticks = element_blank(),\n",
    "        panel.border = element_rect(fill = NA),\n",
    "        legend.position = \"none\") + \n",
    "  coord_equal()\n",
    "}\n",
    "\n",
    "employment_density(industry_occupation_sa3, \"sa3\", \"industry_occupation\") + \n",
    "  labs(x = \"Region\",\n",
    "       y = \"Industry-Occupation\")"
   ],
   "id": "cell-fig-employment-density"
  },
  {
   "cell_type": "markdown",
   "metadata": {},
   "source": [
    "### 3.2 Method\n",
    "\n",
    "This section follows the method of Davies and Maré ([2021](#ref-ecnz)) using correlations of employment shares rather than a location quotient method.\n",
    "\n",
    "#### 3.2.1 Relatedness\n",
    "\n",
    "Activities are related based on the weighted correlation between the local activity share of employment, weighted by each regions share of total employment.\n",
    "\n",
    "-   First calculate the weighted covariance\n",
    "\n",
    "$$\n",
    "cov_{aa} = \\sum_{c \\in C} (\\frac{E_c^{a_i}}{E_c}-\\frac{E^{a_i}}{E})(\\frac{E_c^{a_j}}{E_c}-\\frac{E^{a_j}}{E})\n",
    "$$\n",
    "\n",
    "-   Divide the weighted covariance by the city share-weighted standard deviations of the local activity shares to get the weighted correlation.\n",
    "\n",
    "-   Map the correlation to the interval $[0,1]$ such that:\n",
    "\n",
    "    $$\n",
    "    r_{aa} = \\frac{1}{2}(cor(a_i, a_j) + 1)\n",
    "    $$\n",
    "\n",
    "City relatedness is calculated symmetrically such that:\n",
    "\n",
    "$$\n",
    "r_{cc} = \\frac{1}{2}(cor(c_i, c_j) + 1)\n",
    "$$\n",
    "\n",
    "#### 3.2.2 Complexity\n",
    "\n",
    "Activity complexity is defined by the second eigenvector of the matrix $r_{aa}$ and city complexity is defined by the second eigenvector of the matrix $r_{cc}$. The sign of activity complexity is set such that it is positively correlated with the weighted mean size of cities that contain activity $a$, and the sign of city complexity is set such that it is positively correlated with the local share-weighted mean complexity of activities in city $c$"
   ],
   "id": "ae79a668-4d73-4514-8d1a-727135d928fb"
  },
  {
   "cell_type": "code",
   "execution_count": null,
   "metadata": {},
   "outputs": [],
   "source": [
    "# function to calculate complexity from a region * activity matrix m\n",
    "\n",
    "complexity_nz <- function(m, base_data) {\n",
    "  \n",
    "  activity_share <- m / rowSums(m)\n",
    "  national_share_employment <- rowSums(m) / sum(m)\n",
    "  \n",
    "  region_name <- colnames(base_data)[1]\n",
    "  activity_name <- colnames(base_data)[2]\n",
    "  \n",
    "  # Relatedness of activities is the weighted covariance between the local share vectors for activities i and j, \n",
    "  # weighted by each regions share of total employment.\n",
    "  \n",
    "  \n",
    "  r_aa <- 0.5*(cov.wt(x = activity_share, wt = national_share_employment, cor = TRUE)$cor + 1)\n",
    "  \n",
    "  \n",
    "  #Complexity of activity a is the element a of the standardized second eigenvector of the row-standardized relatedness matrix r.\n",
    "  complexity <- list()\n",
    "  complexity$activity <- Re(eigen(r_aa/rowSums(r_aa))$vector[,2])\n",
    "  complexity$activity  <- (complexity$activity  - mean(complexity$activity ))/sd(complexity$activity)\n",
    "  names(complexity$activity) <- colnames(m)\n",
    "  \n",
    "  #Complexity is positively correlated with the weighted mean size of cities that contain activity a\n",
    "  wmsc <- colSums(m/colSums(m)*rowSums(m))\n",
    "  \n",
    "  if (cor(complexity$activity , wmsc) < 0) {\n",
    "    complexity$activity  = -1*complexity$activity\n",
    "  } else complexity$activity  = complexity$activity \n",
    "  \n",
    "  message(glue::glue(\"most complex activity: {names(complexity$activity[complexity$activity == max(complexity$activity)])}\")) \n",
    "  \n",
    "  \n",
    "  # Relatedness of cities is symmetric to activities.\n",
    "  city_share <- t(m / rowSums(m))\n",
    "  national_share_activity <- colSums(m)/sum(m)\n",
    "  r_cc <- 0.5*(cov.wt(x = city_share, wt = national_share_activity, cor = TRUE)$cor + 1)\n",
    "  \n",
    "  complexity$city <- Re(eigen(r_cc/rowSums(r_cc))$vector[,2])\n",
    "  complexity$city <- (complexity$city- mean(complexity$city))/sd(complexity$city)\n",
    "  names(complexity$city) <- rownames(m)\n",
    "  \n",
    "  #City complexity is positively correlated with the local share weighted mean complexity of activities in city c.\n",
    "  wmc <- rowSums(m/colSums(m)*complexity$activity)\n",
    "  \n",
    "  if (cor(complexity$city, wmc) < 0 || complexity$city[\"Brisbane Inner\"] < 0) {\n",
    "    complexity$city = -1 * complexity$city\n",
    "    } else complexity$city = complexity$city\n",
    "  \n",
    "  message(glue::glue(\"most complex city: {names(complexity$city[complexity$city == max(complexity$city)])}\")) \n",
    "  \n",
    "  df.complexity <- inner_join(base_data, enframe(complexity$city, name = region_name, value = \"city_complexity\")) |> \n",
    "    inner_join(enframe(complexity$activity, name = activity_name, value = \"activity_complexity\"))\n",
    "  return(df.complexity)\n",
    "}"
   ],
   "id": "e63ca42e-6e37-4883-9760-f6f3ab22c1ea"
  },
  {
   "cell_type": "markdown",
   "metadata": {},
   "source": [
    "## 4 Results"
   ],
   "id": "3dd6a038-75c6-4f32-88f1-342fce2b4583"
  },
  {
   "cell_type": "code",
   "execution_count": null,
   "metadata": {},
   "outputs": [
    {
     "output_type": "stream",
     "name": "stderr",
     "text": [
      "most complex activity: Professional, Scientific and Technical Services (Professionals)"
     ]
    },
    {
     "output_type": "stream",
     "name": "stderr",
     "text": [
      "most complex city: Brisbane Inner"
     ]
    },
    {
     "output_type": "stream",
     "name": "stderr",
     "text": [
      "Joining with `by = join_by(sa3)`\n",
      "Joining with `by = join_by(industry_occupation)`"
     ]
    }
   ],
   "source": [
    "#|\n",
    "m <- industry_occupation_sa3 |> \n",
    "  pivot_wider(id_cols = sa3,\n",
    "              names_from = industry_occupation,\n",
    "              values_from = count) |> \n",
    "  column_to_rownames(var = \"sa3\") |> \n",
    "  as.matrix()\n",
    "\n",
    "complexity <- list()\n",
    "\n",
    "complexity$indp_occp <- complexity_nz(m, base_data = industry_occupation_sa3)"
   ],
   "id": "57c5114f-a0cf-4559-87ff-bb5c0fc23a9a"
  },
  {
   "cell_type": "markdown",
   "metadata": {},
   "source": [
    "<a href=\"#fig-gcc-complexity\" class=\"quarto-xref\">Figure 2</a> shows the regional complexity of SA3 regions in Australian Greater Capital City Areas based on 2021 Census data. Complexity is highest in capital cities and surrounding regions."
   ],
   "id": "46296ae7-45eb-4e83-bab5-d46841feb0f4"
  },
  {
   "cell_type": "code",
   "execution_count": null,
   "metadata": {},
   "outputs": [
    {
     "output_type": "display_data",
     "metadata": {},
     "data": {}
    }
   ],
   "source": [
    "complexity_map <- function(data, layer) {\n",
    "  data <- data |> \n",
    "    pluck(layer) |> \n",
    "    distinct(sa3, city_complexity) |> \n",
    "    left_join(sa3, by = c(\"sa3\" = \"sa3_name_2021\")) |> \n",
    "  st_as_sf() \n",
    "  \n",
    "  data |> \n",
    "  filter(str_detect(gcc_name_2021, \"Australian Capital Territory|Greater\")) |> \n",
    "  tm_shape() +\n",
    "  tm_polygons(fill = \"city_complexity\",\n",
    "              fill.scale = tm_scale_continuous(values = \"greek\", ),\n",
    "              fill.legend = tm_legend(title = \"City Complexity Index\",\n",
    "                                      orientation = \"landscape\")) +\n",
    "  tm_facets(\"gcc_name_2021\") +\n",
    "  tm_place_legends_bottom()\n",
    "  \n",
    "  }\n",
    "\n",
    "\n",
    "complexity_map(complexity, \"indp_occp\")"
   ],
   "id": "cell-fig-gcc-complexity"
  },
  {
   "cell_type": "markdown",
   "metadata": {},
   "source": [
    "### 4.1 Regression\n",
    "\n",
    "$ECI_r = CC + log(employment) + log(population) + log(income_{hh}) + log(business_{entries}) + business_{share}$"
   ],
   "id": "7271f3fc-5a41-4942-93e5-fdf92a496f18"
  },
  {
   "cell_type": "code",
   "execution_count": null,
   "metadata": {},
   "outputs": [],
   "source": [
    "load(\"data/data_by_region.rda\")\n",
    "\n",
    "\n",
    "complexity.reg <- complexity$indp_occp |> \n",
    "  distinct(sa3, city_complexity) |> \n",
    "  inner_join(data_by_region, by = c(\"sa3\" = \"region\")) |> \n",
    "  inner_join(sa3, by = c(\"sa3\" = \"sa3_name_2021\")) |> \n",
    "  group_by(state_name_2021) |> \n",
    "  mutate(business_share = total_businesses_no/sum(total_businesses_no, na.rm = TRUE)) |>\n",
    "  ungroup() |> \n",
    "  mutate(turnover_greater_2m = total_businesses_no - (businesses_with_turnover_of_10m_or_more_no + businesses_with_turnover_of_5m_to_less_than_10m_no + businesses_with_turnover_of_2m_to_less_than_5m_no),\n",
    "         turnover_greater_2m_share = turnover_greater_2m/total_businesses_no,\n",
    "         across(c(total_businesses_no, \n",
    "                  total_business_entries_no,\n",
    "                  total_business_exits_no,\n",
    "                  total_persons_employed_aged_15_years_and_over_no,\n",
    "                  estimated_resident_population_persons_no,\n",
    "                  median_equivalised_total_household_income_weekly), \n",
    "                .fn = ~log(.x),\n",
    "                .names = \"log_{.col}\")) |> \n",
    "  drop_na(city_complexity,\n",
    "          log_total_businesses_no,\n",
    "          log_total_business_entries_no,\n",
    "          log_total_business_exits_no,\n",
    "          turnover_greater_2m_share,\n",
    "          log_estimated_resident_population_persons_no,\n",
    "          business_share,\n",
    "          log_median_equivalised_total_household_income_weekly) |> \n",
    "  st_as_sf() \n",
    "\n",
    "regression_spec <- parse(text = \"city_complexity ~ log_total_businesses_no + log_total_business_entries_no + log_total_business_exits_no + turnover_greater_2m_share + log_total_persons_employed_aged_15_years_and_over_no + log_estimated_resident_population_persons_no + business_share + log_median_equivalised_total_household_income_weekly\")[[1]]\n",
    "\n",
    "fit.ols <- lm(regression_spec,\n",
    "              data = complexity.reg)"
   ],
   "id": "3d8360c4-67c1-4d65-9a62-e9f1cd405e71"
  },
  {
   "cell_type": "markdown",
   "metadata": {},
   "source": [
    "### 4.2 Spatial Correlation"
   ],
   "id": "b1eae17b-0b25-40f1-af29-acbe134c69f1"
  },
  {
   "cell_type": "code",
   "execution_count": null,
   "metadata": {},
   "outputs": [],
   "source": [
    "nb <- poly2nb(complexity.reg, queen = TRUE)\n",
    "lw <- nb2listw(nb, style = \"W\", zero.policy = TRUE)"
   ],
   "id": "9307c725-1751-453d-9d10-0828d64182d5"
  },
  {
   "cell_type": "code",
   "execution_count": null,
   "metadata": {},
   "outputs": [],
   "source": [
    "moranI <- moran(complexity.reg$city_complexity, listw = lw, n = length(nb), S0 = Szero(lw))\n",
    "\n",
    "moranIp <- moran.mc(complexity.reg$city_complexity, lw, nsim = 1000)"
   ],
   "id": "c1c97885-7792-46a3-af92-3aefea5c7649"
  },
  {
   "cell_type": "markdown",
   "metadata": {},
   "source": [
    "Based on <a href=\"#fig-gcc-complexity\" class=\"quarto-xref\">Figure 2</a>, it looks like there are clusters of complexity, centred around capital cities."
   ],
   "id": "66ddc193-0617-4345-9db3-93e679a9839e"
  },
  {
   "cell_type": "code",
   "execution_count": null,
   "metadata": {},
   "outputs": [
    {
     "output_type": "stream",
     "name": "stderr",
     "text": [
      "[plot mode] fit legend/component: Some legend items or map compoments do not fit well, and are therefore rescaled. Set the tmap option 'component.autoscale' to FALSE to disable rescaling."
     ]
    },
    {
     "output_type": "display_data",
     "metadata": {},
     "data": {}
    }
   ],
   "source": [
    "complexity.reg <- complexity.reg |>\n",
    "  mutate(olsresid = resid(fit.ols)) \n",
    "\n",
    "tm_shape(complexity.reg) + \n",
    "  tm_polygons(fill = \"olsresid\",\n",
    "              fill.scale = tm_scale_continuous(values = \"reds\"),\n",
    "              fill.legend = tm_legend(outside = TRUE,\n",
    "                                      title = \"OLS Residuals\",\n",
    "                                      text.size = 0.8),\n",
    "              col = \"grey80\",\n",
    "              lwd = 0.5) +\n",
    "  tm_layout(frame = FALSE)"
   ],
   "id": "cell-fig-residuals-map"
  },
  {
   "cell_type": "markdown",
   "metadata": {},
   "source": [
    "The residuals from the linear regression are shown in <a href=\"#fig-residuals-map\" class=\"quarto-xref\">Figure 3</a> which also shows that the distribution of the residuals appears non-random."
   ],
   "id": "63d24408-67db-45af-a56b-76ecc8eeb3b7"
  },
  {
   "cell_type": "code",
   "execution_count": null,
   "metadata": {},
   "outputs": [
    {
     "output_type": "display_data",
     "metadata": {},
     "data": {}
    }
   ],
   "source": [
    "moran.plot(as.numeric(scale(complexity.reg$city_complexity)),\n",
    "           listw = lw,\n",
    "           xlab = \"City Complexity\",\n",
    "           ylab = \"Neighbours City Complexity\")"
   ],
   "id": "cell-fig-moran-plot"
  },
  {
   "cell_type": "markdown",
   "metadata": {},
   "source": [
    "The correlation between complexity and lagged complexity is shown in <a href=\"#fig-moran-plot\" class=\"quarto-xref\">Figure 4</a> which also shows a dependency. Finally, we observe a global Moran’s I of 0.498499 with a p.value of 0. As such, the data appear to be spatially autocorrelated, so a lagged AR or lagged error model should be estimated instead."
   ],
   "id": "07377891-cf73-4e1b-a178-b70d06538918"
  },
  {
   "cell_type": "code",
   "execution_count": null,
   "metadata": {},
   "outputs": [],
   "source": [
    "fit.lag <- lagsarlm(regression_spec,\n",
    "                    data = complexity.reg,\n",
    "                    listw = lw, \n",
    "                    zero.policy = TRUE)\n",
    "\n",
    "fit.err <- errorsarlm(regression_spec,\n",
    "                      data = complexity.reg,\n",
    "                      listw = lw, \n",
    "                      zero.policy = TRUE)"
   ],
   "id": "52bc8395-e179-48d4-b316-c8cbd2851a9b"
  },
  {
   "cell_type": "code",
   "execution_count": null,
   "metadata": {},
   "outputs": [
    {
     "output_type": "display_data",
     "metadata": {},
     "data": {
      "text/html": [
       "<table class=\"huxtable\" data-quarto-disable-processing=\"true\" style=\"border-collapse: collapse; border: 0px; margin-bottom: 2em; margin-top: 2em; ; margin-left: auto; margin-right: auto;  \" id=\"tab:regression-results\">\n",
       "<col><col><col><col><tr>\n",
       "<th style=\"vertical-align: top; text-align: center; white-space: normal; border-style: solid solid solid solid; border-width: 0.8pt 0pt 0pt 0pt;    padding: 6pt 6pt 6pt 6pt; font-weight: normal;\"></th><th style=\"vertical-align: top; text-align: center; white-space: normal; border-style: solid solid solid solid; border-width: 0.8pt 0pt 0.4pt 0pt;    padding: 6pt 6pt 6pt 6pt; font-weight: normal;\">OLS</th><th style=\"vertical-align: top; text-align: center; white-space: normal; border-style: solid solid solid solid; border-width: 0.8pt 0pt 0.4pt 0pt;    padding: 6pt 6pt 6pt 6pt; font-weight: normal;\">Spatial AR</th><th style=\"vertical-align: top; text-align: center; white-space: normal; border-style: solid solid solid solid; border-width: 0.8pt 0pt 0.4pt 0pt;    padding: 6pt 6pt 6pt 6pt; font-weight: normal;\">Spatial Error</th></tr>\n",
       "<tr>\n",
       "<th style=\"vertical-align: top; text-align: left; white-space: normal; border-style: solid solid solid solid; border-width: 0pt 0pt 0pt 0pt;    padding: 6pt 6pt 6pt 6pt; font-weight: normal;\">(Intercept)</th><td style=\"vertical-align: top; text-align: right; white-space: normal; border-style: solid solid solid solid; border-width: 0.4pt 0pt 0pt 0pt;    padding: 6pt 6pt 6pt 6pt; font-weight: normal;\">-17.224 ***</td><td style=\"vertical-align: top; text-align: right; white-space: normal; border-style: solid solid solid solid; border-width: 0.4pt 0pt 0pt 0pt;    padding: 6pt 6pt 6pt 6pt; font-weight: normal;\">-13.830 ***</td><td style=\"vertical-align: top; text-align: right; white-space: normal; border-style: solid solid solid solid; border-width: 0.4pt 0pt 0pt 0pt;    padding: 6pt 6pt 6pt 6pt; font-weight: normal;\">-16.581 ***</td></tr>\n",
       "<tr>\n",
       "<th style=\"vertical-align: top; text-align: left; white-space: normal; border-style: solid solid solid solid; border-width: 0pt 0pt 0pt 0pt;    padding: 6pt 6pt 6pt 6pt; font-weight: normal;\"></th><td style=\"vertical-align: top; text-align: right; white-space: normal; border-style: solid solid solid solid; border-width: 0pt 0pt 0pt 0pt;    padding: 6pt 6pt 6pt 6pt; font-weight: normal;\">(3.417)&nbsp;&nbsp;&nbsp;</td><td style=\"vertical-align: top; text-align: right; white-space: normal; border-style: solid solid solid solid; border-width: 0pt 0pt 0pt 0pt;    padding: 6pt 6pt 6pt 6pt; font-weight: normal;\">(3.351)&nbsp;&nbsp;&nbsp;</td><td style=\"vertical-align: top; text-align: right; white-space: normal; border-style: solid solid solid solid; border-width: 0pt 0pt 0pt 0pt;    padding: 6pt 6pt 6pt 6pt; font-weight: normal;\">(3.561)&nbsp;&nbsp;&nbsp;</td></tr>\n",
       "<tr>\n",
       "<th style=\"vertical-align: top; text-align: left; white-space: normal; border-style: solid solid solid solid; border-width: 0pt 0pt 0pt 0pt;    padding: 6pt 6pt 6pt 6pt; font-weight: normal;\">log_total_businesses_no</th><td style=\"vertical-align: top; text-align: right; white-space: normal; border-style: solid solid solid solid; border-width: 0pt 0pt 0pt 0pt;    padding: 6pt 6pt 6pt 6pt; font-weight: normal;\">-0.102&nbsp;&nbsp;&nbsp;&nbsp;</td><td style=\"vertical-align: top; text-align: right; white-space: normal; border-style: solid solid solid solid; border-width: 0pt 0pt 0pt 0pt;    padding: 6pt 6pt 6pt 6pt; font-weight: normal;\">0.063&nbsp;&nbsp;&nbsp;&nbsp;</td><td style=\"vertical-align: top; text-align: right; white-space: normal; border-style: solid solid solid solid; border-width: 0pt 0pt 0pt 0pt;    padding: 6pt 6pt 6pt 6pt; font-weight: normal;\">-0.114&nbsp;&nbsp;&nbsp;&nbsp;</td></tr>\n",
       "<tr>\n",
       "<th style=\"vertical-align: top; text-align: left; white-space: normal; border-style: solid solid solid solid; border-width: 0pt 0pt 0pt 0pt;    padding: 6pt 6pt 6pt 6pt; font-weight: normal;\"></th><td style=\"vertical-align: top; text-align: right; white-space: normal; border-style: solid solid solid solid; border-width: 0pt 0pt 0pt 0pt;    padding: 6pt 6pt 6pt 6pt; font-weight: normal;\">(0.230)&nbsp;&nbsp;&nbsp;</td><td style=\"vertical-align: top; text-align: right; white-space: normal; border-style: solid solid solid solid; border-width: 0pt 0pt 0pt 0pt;    padding: 6pt 6pt 6pt 6pt; font-weight: normal;\">(0.221)&nbsp;&nbsp;&nbsp;</td><td style=\"vertical-align: top; text-align: right; white-space: normal; border-style: solid solid solid solid; border-width: 0pt 0pt 0pt 0pt;    padding: 6pt 6pt 6pt 6pt; font-weight: normal;\">(0.254)&nbsp;&nbsp;&nbsp;</td></tr>\n",
       "<tr>\n",
       "<th style=\"vertical-align: top; text-align: left; white-space: normal; border-style: solid solid solid solid; border-width: 0pt 0pt 0pt 0pt;    padding: 6pt 6pt 6pt 6pt; font-weight: normal;\">log_total_business_entries_no</th><td style=\"vertical-align: top; text-align: right; white-space: normal; border-style: solid solid solid solid; border-width: 0pt 0pt 0pt 0pt;    padding: 6pt 6pt 6pt 6pt; font-weight: normal;\">0.028&nbsp;&nbsp;&nbsp;&nbsp;</td><td style=\"vertical-align: top; text-align: right; white-space: normal; border-style: solid solid solid solid; border-width: 0pt 0pt 0pt 0pt;    padding: 6pt 6pt 6pt 6pt; font-weight: normal;\">-0.060&nbsp;&nbsp;&nbsp;&nbsp;</td><td style=\"vertical-align: top; text-align: right; white-space: normal; border-style: solid solid solid solid; border-width: 0pt 0pt 0pt 0pt;    padding: 6pt 6pt 6pt 6pt; font-weight: normal;\">-0.037&nbsp;&nbsp;&nbsp;&nbsp;</td></tr>\n",
       "<tr>\n",
       "<th style=\"vertical-align: top; text-align: left; white-space: normal; border-style: solid solid solid solid; border-width: 0pt 0pt 0pt 0pt;    padding: 6pt 6pt 6pt 6pt; font-weight: normal;\"></th><td style=\"vertical-align: top; text-align: right; white-space: normal; border-style: solid solid solid solid; border-width: 0pt 0pt 0pt 0pt;    padding: 6pt 6pt 6pt 6pt; font-weight: normal;\">(0.409)&nbsp;&nbsp;&nbsp;</td><td style=\"vertical-align: top; text-align: right; white-space: normal; border-style: solid solid solid solid; border-width: 0pt 0pt 0pt 0pt;    padding: 6pt 6pt 6pt 6pt; font-weight: normal;\">(0.389)&nbsp;&nbsp;&nbsp;</td><td style=\"vertical-align: top; text-align: right; white-space: normal; border-style: solid solid solid solid; border-width: 0pt 0pt 0pt 0pt;    padding: 6pt 6pt 6pt 6pt; font-weight: normal;\">(0.395)&nbsp;&nbsp;&nbsp;</td></tr>\n",
       "<tr>\n",
       "<th style=\"vertical-align: top; text-align: left; white-space: normal; border-style: solid solid solid solid; border-width: 0pt 0pt 0pt 0pt;    padding: 6pt 6pt 6pt 6pt; font-weight: normal;\">log_total_business_exits_no</th><td style=\"vertical-align: top; text-align: right; white-space: normal; border-style: solid solid solid solid; border-width: 0pt 0pt 0pt 0pt;    padding: 6pt 6pt 6pt 6pt; font-weight: normal;\">0.937 *&nbsp;&nbsp;</td><td style=\"vertical-align: top; text-align: right; white-space: normal; border-style: solid solid solid solid; border-width: 0pt 0pt 0pt 0pt;    padding: 6pt 6pt 6pt 6pt; font-weight: normal;\">0.650&nbsp;&nbsp;&nbsp;&nbsp;</td><td style=\"vertical-align: top; text-align: right; white-space: normal; border-style: solid solid solid solid; border-width: 0pt 0pt 0pt 0pt;    padding: 6pt 6pt 6pt 6pt; font-weight: normal;\">0.939 *&nbsp;&nbsp;</td></tr>\n",
       "<tr>\n",
       "<th style=\"vertical-align: top; text-align: left; white-space: normal; border-style: solid solid solid solid; border-width: 0pt 0pt 0pt 0pt;    padding: 6pt 6pt 6pt 6pt; font-weight: normal;\"></th><td style=\"vertical-align: top; text-align: right; white-space: normal; border-style: solid solid solid solid; border-width: 0pt 0pt 0pt 0pt;    padding: 6pt 6pt 6pt 6pt; font-weight: normal;\">(0.431)&nbsp;&nbsp;&nbsp;</td><td style=\"vertical-align: top; text-align: right; white-space: normal; border-style: solid solid solid solid; border-width: 0pt 0pt 0pt 0pt;    padding: 6pt 6pt 6pt 6pt; font-weight: normal;\">(0.416)&nbsp;&nbsp;&nbsp;</td><td style=\"vertical-align: top; text-align: right; white-space: normal; border-style: solid solid solid solid; border-width: 0pt 0pt 0pt 0pt;    padding: 6pt 6pt 6pt 6pt; font-weight: normal;\">(0.420)&nbsp;&nbsp;&nbsp;</td></tr>\n",
       "<tr>\n",
       "<th style=\"vertical-align: top; text-align: left; white-space: normal; border-style: solid solid solid solid; border-width: 0pt 0pt 0pt 0pt;    padding: 6pt 6pt 6pt 6pt; font-weight: normal;\">turnover_greater_2m_share</th><td style=\"vertical-align: top; text-align: right; white-space: normal; border-style: solid solid solid solid; border-width: 0pt 0pt 0pt 0pt;    padding: 6pt 6pt 6pt 6pt; font-weight: normal;\">0.491&nbsp;&nbsp;&nbsp;&nbsp;</td><td style=\"vertical-align: top; text-align: right; white-space: normal; border-style: solid solid solid solid; border-width: 0pt 0pt 0pt 0pt;    padding: 6pt 6pt 6pt 6pt; font-weight: normal;\">-0.083&nbsp;&nbsp;&nbsp;&nbsp;</td><td style=\"vertical-align: top; text-align: right; white-space: normal; border-style: solid solid solid solid; border-width: 0pt 0pt 0pt 0pt;    padding: 6pt 6pt 6pt 6pt; font-weight: normal;\">-0.220&nbsp;&nbsp;&nbsp;&nbsp;</td></tr>\n",
       "<tr>\n",
       "<th style=\"vertical-align: top; text-align: left; white-space: normal; border-style: solid solid solid solid; border-width: 0pt 0pt 0pt 0pt;    padding: 6pt 6pt 6pt 6pt; font-weight: normal;\"></th><td style=\"vertical-align: top; text-align: right; white-space: normal; border-style: solid solid solid solid; border-width: 0pt 0pt 0pt 0pt;    padding: 6pt 6pt 6pt 6pt; font-weight: normal;\">(1.748)&nbsp;&nbsp;&nbsp;</td><td style=\"vertical-align: top; text-align: right; white-space: normal; border-style: solid solid solid solid; border-width: 0pt 0pt 0pt 0pt;    padding: 6pt 6pt 6pt 6pt; font-weight: normal;\">(1.668)&nbsp;&nbsp;&nbsp;</td><td style=\"vertical-align: top; text-align: right; white-space: normal; border-style: solid solid solid solid; border-width: 0pt 0pt 0pt 0pt;    padding: 6pt 6pt 6pt 6pt; font-weight: normal;\">(1.721)&nbsp;&nbsp;&nbsp;</td></tr>\n",
       "<tr>\n",
       "<th style=\"vertical-align: top; text-align: left; white-space: normal; border-style: solid solid solid solid; border-width: 0pt 0pt 0pt 0pt;    padding: 6pt 6pt 6pt 6pt; font-weight: normal;\">log_total_persons_employed_aged_15_years_and_over_no</th><td style=\"vertical-align: top; text-align: right; white-space: normal; border-style: solid solid solid solid; border-width: 0pt 0pt 0pt 0pt;    padding: 6pt 6pt 6pt 6pt; font-weight: normal;\">-1.691 **&nbsp;</td><td style=\"vertical-align: top; text-align: right; white-space: normal; border-style: solid solid solid solid; border-width: 0pt 0pt 0pt 0pt;    padding: 6pt 6pt 6pt 6pt; font-weight: normal;\">-1.382 **&nbsp;</td><td style=\"vertical-align: top; text-align: right; white-space: normal; border-style: solid solid solid solid; border-width: 0pt 0pt 0pt 0pt;    padding: 6pt 6pt 6pt 6pt; font-weight: normal;\">-1.793 **&nbsp;</td></tr>\n",
       "<tr>\n",
       "<th style=\"vertical-align: top; text-align: left; white-space: normal; border-style: solid solid solid solid; border-width: 0pt 0pt 0pt 0pt;    padding: 6pt 6pt 6pt 6pt; font-weight: normal;\"></th><td style=\"vertical-align: top; text-align: right; white-space: normal; border-style: solid solid solid solid; border-width: 0pt 0pt 0pt 0pt;    padding: 6pt 6pt 6pt 6pt; font-weight: normal;\">(0.517)&nbsp;&nbsp;&nbsp;</td><td style=\"vertical-align: top; text-align: right; white-space: normal; border-style: solid solid solid solid; border-width: 0pt 0pt 0pt 0pt;    padding: 6pt 6pt 6pt 6pt; font-weight: normal;\">(0.500)&nbsp;&nbsp;&nbsp;</td><td style=\"vertical-align: top; text-align: right; white-space: normal; border-style: solid solid solid solid; border-width: 0pt 0pt 0pt 0pt;    padding: 6pt 6pt 6pt 6pt; font-weight: normal;\">(0.565)&nbsp;&nbsp;&nbsp;</td></tr>\n",
       "<tr>\n",
       "<th style=\"vertical-align: top; text-align: left; white-space: normal; border-style: solid solid solid solid; border-width: 0pt 0pt 0pt 0pt;    padding: 6pt 6pt 6pt 6pt; font-weight: normal;\">log_estimated_resident_population_persons_no</th><td style=\"vertical-align: top; text-align: right; white-space: normal; border-style: solid solid solid solid; border-width: 0pt 0pt 0pt 0pt;    padding: 6pt 6pt 6pt 6pt; font-weight: normal;\">1.208 *&nbsp;&nbsp;</td><td style=\"vertical-align: top; text-align: right; white-space: normal; border-style: solid solid solid solid; border-width: 0pt 0pt 0pt 0pt;    padding: 6pt 6pt 6pt 6pt; font-weight: normal;\">1.096 *&nbsp;&nbsp;</td><td style=\"vertical-align: top; text-align: right; white-space: normal; border-style: solid solid solid solid; border-width: 0pt 0pt 0pt 0pt;    padding: 6pt 6pt 6pt 6pt; font-weight: normal;\">1.430 *&nbsp;&nbsp;</td></tr>\n",
       "<tr>\n",
       "<th style=\"vertical-align: top; text-align: left; white-space: normal; border-style: solid solid solid solid; border-width: 0pt 0pt 0pt 0pt;    padding: 6pt 6pt 6pt 6pt; font-weight: normal;\"></th><td style=\"vertical-align: top; text-align: right; white-space: normal; border-style: solid solid solid solid; border-width: 0pt 0pt 0pt 0pt;    padding: 6pt 6pt 6pt 6pt; font-weight: normal;\">(0.511)&nbsp;&nbsp;&nbsp;</td><td style=\"vertical-align: top; text-align: right; white-space: normal; border-style: solid solid solid solid; border-width: 0pt 0pt 0pt 0pt;    padding: 6pt 6pt 6pt 6pt; font-weight: normal;\">(0.490)&nbsp;&nbsp;&nbsp;</td><td style=\"vertical-align: top; text-align: right; white-space: normal; border-style: solid solid solid solid; border-width: 0pt 0pt 0pt 0pt;    padding: 6pt 6pt 6pt 6pt; font-weight: normal;\">(0.565)&nbsp;&nbsp;&nbsp;</td></tr>\n",
       "<tr>\n",
       "<th style=\"vertical-align: top; text-align: left; white-space: normal; border-style: solid solid solid solid; border-width: 0pt 0pt 0pt 0pt;    padding: 6pt 6pt 6pt 6pt; font-weight: normal;\">business_share</th><td style=\"vertical-align: top; text-align: right; white-space: normal; border-style: solid solid solid solid; border-width: 0pt 0pt 0pt 0pt;    padding: 6pt 6pt 6pt 6pt; font-weight: normal;\">4.280 ***</td><td style=\"vertical-align: top; text-align: right; white-space: normal; border-style: solid solid solid solid; border-width: 0pt 0pt 0pt 0pt;    padding: 6pt 6pt 6pt 6pt; font-weight: normal;\">4.457 ***</td><td style=\"vertical-align: top; text-align: right; white-space: normal; border-style: solid solid solid solid; border-width: 0pt 0pt 0pt 0pt;    padding: 6pt 6pt 6pt 6pt; font-weight: normal;\">4.371 **&nbsp;</td></tr>\n",
       "<tr>\n",
       "<th style=\"vertical-align: top; text-align: left; white-space: normal; border-style: solid solid solid solid; border-width: 0pt 0pt 0pt 0pt;    padding: 6pt 6pt 6pt 6pt; font-weight: normal;\"></th><td style=\"vertical-align: top; text-align: right; white-space: normal; border-style: solid solid solid solid; border-width: 0pt 0pt 0pt 0pt;    padding: 6pt 6pt 6pt 6pt; font-weight: normal;\">(1.206)&nbsp;&nbsp;&nbsp;</td><td style=\"vertical-align: top; text-align: right; white-space: normal; border-style: solid solid solid solid; border-width: 0pt 0pt 0pt 0pt;    padding: 6pt 6pt 6pt 6pt; font-weight: normal;\">(1.149)&nbsp;&nbsp;&nbsp;</td><td style=\"vertical-align: top; text-align: right; white-space: normal; border-style: solid solid solid solid; border-width: 0pt 0pt 0pt 0pt;    padding: 6pt 6pt 6pt 6pt; font-weight: normal;\">(1.415)&nbsp;&nbsp;&nbsp;</td></tr>\n",
       "<tr>\n",
       "<th style=\"vertical-align: top; text-align: left; white-space: normal; border-style: solid solid solid solid; border-width: 0pt 0pt 0pt 0pt;    padding: 6pt 6pt 6pt 6pt; font-weight: normal;\">log_median_equivalised_total_household_income_weekly</th><td style=\"vertical-align: top; text-align: right; white-space: normal; border-style: solid solid solid solid; border-width: 0pt 0pt 0pt 0pt;    padding: 6pt 6pt 6pt 6pt; font-weight: normal;\">2.213 ***</td><td style=\"vertical-align: top; text-align: right; white-space: normal; border-style: solid solid solid solid; border-width: 0pt 0pt 0pt 0pt;    padding: 6pt 6pt 6pt 6pt; font-weight: normal;\">1.669 ***</td><td style=\"vertical-align: top; text-align: right; white-space: normal; border-style: solid solid solid solid; border-width: 0pt 0pt 0pt 0pt;    padding: 6pt 6pt 6pt 6pt; font-weight: normal;\">2.097 ***</td></tr>\n",
       "<tr>\n",
       "<th style=\"vertical-align: top; text-align: left; white-space: normal; border-style: solid solid solid solid; border-width: 0pt 0pt 0pt 0pt;    padding: 6pt 6pt 6pt 6pt; font-weight: normal;\"></th><td style=\"vertical-align: top; text-align: right; white-space: normal; border-style: solid solid solid solid; border-width: 0pt 0pt 0pt 0pt;    padding: 6pt 6pt 6pt 6pt; font-weight: normal;\">(0.283)&nbsp;&nbsp;&nbsp;</td><td style=\"vertical-align: top; text-align: right; white-space: normal; border-style: solid solid solid solid; border-width: 0pt 0pt 0pt 0pt;    padding: 6pt 6pt 6pt 6pt; font-weight: normal;\">(0.294)&nbsp;&nbsp;&nbsp;</td><td style=\"vertical-align: top; text-align: right; white-space: normal; border-style: solid solid solid solid; border-width: 0pt 0pt 0pt 0pt;    padding: 6pt 6pt 6pt 6pt; font-weight: normal;\">(0.321)&nbsp;&nbsp;&nbsp;</td></tr>\n",
       "<tr>\n",
       "<th style=\"vertical-align: top; text-align: left; white-space: normal; border-style: solid solid solid solid; border-width: 0pt 0pt 0pt 0pt;    padding: 6pt 6pt 6pt 6pt; font-weight: normal;\">rho</th><td style=\"vertical-align: top; text-align: right; white-space: normal; border-style: solid solid solid solid; border-width: 0pt 0pt 0pt 0pt;    padding: 6pt 6pt 6pt 6pt; font-weight: normal;\">&nbsp;&nbsp;&nbsp;&nbsp;&nbsp;&nbsp;&nbsp;&nbsp;</td><td style=\"vertical-align: top; text-align: right; white-space: normal; border-style: solid solid solid solid; border-width: 0pt 0pt 0pt 0pt;    padding: 6pt 6pt 6pt 6pt; font-weight: normal;\">0.273 ***</td><td style=\"vertical-align: top; text-align: right; white-space: normal; border-style: solid solid solid solid; border-width: 0pt 0pt 0pt 0pt;    padding: 6pt 6pt 6pt 6pt; font-weight: normal;\">&nbsp;&nbsp;&nbsp;&nbsp;&nbsp;&nbsp;&nbsp;&nbsp;</td></tr>\n",
       "<tr>\n",
       "<th style=\"vertical-align: top; text-align: left; white-space: normal; border-style: solid solid solid solid; border-width: 0pt 0pt 0pt 0pt;    padding: 6pt 6pt 6pt 6pt; font-weight: normal;\"></th><td style=\"vertical-align: top; text-align: right; white-space: normal; border-style: solid solid solid solid; border-width: 0pt 0pt 0pt 0pt;    padding: 6pt 6pt 6pt 6pt; font-weight: normal;\">&nbsp;&nbsp;&nbsp;&nbsp;&nbsp;&nbsp;&nbsp;&nbsp;</td><td style=\"vertical-align: top; text-align: right; white-space: normal; border-style: solid solid solid solid; border-width: 0pt 0pt 0pt 0pt;    padding: 6pt 6pt 6pt 6pt; font-weight: normal;\">(0.060)&nbsp;&nbsp;&nbsp;</td><td style=\"vertical-align: top; text-align: right; white-space: normal; border-style: solid solid solid solid; border-width: 0pt 0pt 0pt 0pt;    padding: 6pt 6pt 6pt 6pt; font-weight: normal;\">&nbsp;&nbsp;&nbsp;&nbsp;&nbsp;&nbsp;&nbsp;&nbsp;</td></tr>\n",
       "<tr>\n",
       "<th style=\"vertical-align: top; text-align: left; white-space: normal; border-style: solid solid solid solid; border-width: 0pt 0pt 0pt 0pt;    padding: 6pt 6pt 6pt 6pt; font-weight: normal;\">lambda</th><td style=\"vertical-align: top; text-align: right; white-space: normal; border-style: solid solid solid solid; border-width: 0pt 0pt 0pt 0pt;    padding: 6pt 6pt 6pt 6pt; font-weight: normal;\">&nbsp;&nbsp;&nbsp;&nbsp;&nbsp;&nbsp;&nbsp;&nbsp;</td><td style=\"vertical-align: top; text-align: right; white-space: normal; border-style: solid solid solid solid; border-width: 0pt 0pt 0pt 0pt;    padding: 6pt 6pt 6pt 6pt; font-weight: normal;\">&nbsp;&nbsp;&nbsp;&nbsp;&nbsp;&nbsp;&nbsp;&nbsp;</td><td style=\"vertical-align: top; text-align: right; white-space: normal; border-style: solid solid solid solid; border-width: 0pt 0pt 0pt 0pt;    padding: 6pt 6pt 6pt 6pt; font-weight: normal;\">0.360 ***</td></tr>\n",
       "<tr>\n",
       "<th style=\"vertical-align: top; text-align: left; white-space: normal; border-style: solid solid solid solid; border-width: 0pt 0pt 0pt 0pt;    padding: 6pt 6pt 6pt 6pt; font-weight: normal;\"></th><td style=\"vertical-align: top; text-align: right; white-space: normal; border-style: solid solid solid solid; border-width: 0pt 0pt 0.4pt 0pt;    padding: 6pt 6pt 6pt 6pt; font-weight: normal;\">&nbsp;&nbsp;&nbsp;&nbsp;&nbsp;&nbsp;&nbsp;&nbsp;</td><td style=\"vertical-align: top; text-align: right; white-space: normal; border-style: solid solid solid solid; border-width: 0pt 0pt 0.4pt 0pt;    padding: 6pt 6pt 6pt 6pt; font-weight: normal;\">&nbsp;&nbsp;&nbsp;&nbsp;&nbsp;&nbsp;&nbsp;&nbsp;</td><td style=\"vertical-align: top; text-align: right; white-space: normal; border-style: solid solid solid solid; border-width: 0pt 0pt 0.4pt 0pt;    padding: 6pt 6pt 6pt 6pt; font-weight: normal;\">(0.066)&nbsp;&nbsp;&nbsp;</td></tr>\n",
       "<tr>\n",
       "<th style=\"vertical-align: top; text-align: left; white-space: normal; border-style: solid solid solid solid; border-width: 0pt 0pt 0pt 0pt;    padding: 6pt 6pt 6pt 6pt; font-weight: normal;\">N</th><td style=\"vertical-align: top; text-align: right; white-space: normal; border-style: solid solid solid solid; border-width: 0.4pt 0pt 0pt 0pt;    padding: 6pt 6pt 6pt 6pt; font-weight: normal;\">330&nbsp;&nbsp;&nbsp;&nbsp;&nbsp;&nbsp;&nbsp;&nbsp;</td><td style=\"vertical-align: top; text-align: right; white-space: normal; border-style: solid solid solid solid; border-width: 0.4pt 0pt 0pt 0pt;    padding: 6pt 6pt 6pt 6pt; font-weight: normal;\">330&nbsp;&nbsp;&nbsp;&nbsp;&nbsp;&nbsp;&nbsp;&nbsp;</td><td style=\"vertical-align: top; text-align: right; white-space: normal; border-style: solid solid solid solid; border-width: 0.4pt 0pt 0pt 0pt;    padding: 6pt 6pt 6pt 6pt; font-weight: normal;\">330&nbsp;&nbsp;&nbsp;&nbsp;&nbsp;&nbsp;&nbsp;&nbsp;</td></tr>\n",
       "<tr>\n",
       "<th style=\"vertical-align: top; text-align: left; white-space: normal; border-style: solid solid solid solid; border-width: 0pt 0pt 0pt 0pt;    padding: 6pt 6pt 6pt 6pt; font-weight: normal;\">R2</th><td style=\"vertical-align: top; text-align: right; white-space: normal; border-style: solid solid solid solid; border-width: 0pt 0pt 0pt 0pt;    padding: 6pt 6pt 6pt 6pt; font-weight: normal;\">0.528&nbsp;&nbsp;&nbsp;&nbsp;</td><td style=\"vertical-align: top; text-align: right; white-space: normal; border-style: solid solid solid solid; border-width: 0pt 0pt 0pt 0pt;    padding: 6pt 6pt 6pt 6pt; font-weight: normal;\">0.560&nbsp;&nbsp;&nbsp;&nbsp;</td><td style=\"vertical-align: top; text-align: right; white-space: normal; border-style: solid solid solid solid; border-width: 0pt 0pt 0pt 0pt;    padding: 6pt 6pt 6pt 6pt; font-weight: normal;\">0.574&nbsp;&nbsp;&nbsp;&nbsp;</td></tr>\n",
       "<tr>\n",
       "<th style=\"vertical-align: top; text-align: left; white-space: normal; border-style: solid solid solid solid; border-width: 0pt 0pt 0pt 0pt;    padding: 6pt 6pt 6pt 6pt; font-weight: normal;\">logLik</th><td style=\"vertical-align: top; text-align: right; white-space: normal; border-style: solid solid solid solid; border-width: 0pt 0pt 0pt 0pt;    padding: 6pt 6pt 6pt 6pt; font-weight: normal;\">-346.835&nbsp;&nbsp;&nbsp;&nbsp;</td><td style=\"vertical-align: top; text-align: right; white-space: normal; border-style: solid solid solid solid; border-width: 0pt 0pt 0pt 0pt;    padding: 6pt 6pt 6pt 6pt; font-weight: normal;\">-338.084&nbsp;&nbsp;&nbsp;&nbsp;</td><td style=\"vertical-align: top; text-align: right; white-space: normal; border-style: solid solid solid solid; border-width: 0pt 0pt 0pt 0pt;    padding: 6pt 6pt 6pt 6pt; font-weight: normal;\">-335.202&nbsp;&nbsp;&nbsp;&nbsp;</td></tr>\n",
       "<tr>\n",
       "<th style=\"vertical-align: top; text-align: left; white-space: normal; border-style: solid solid solid solid; border-width: 0pt 0pt 0.8pt 0pt;    padding: 6pt 6pt 6pt 6pt; font-weight: normal;\">AIC</th><td style=\"vertical-align: top; text-align: right; white-space: normal; border-style: solid solid solid solid; border-width: 0pt 0pt 0.8pt 0pt;    padding: 6pt 6pt 6pt 6pt; font-weight: normal;\">713.669&nbsp;&nbsp;&nbsp;&nbsp;</td><td style=\"vertical-align: top; text-align: right; white-space: normal; border-style: solid solid solid solid; border-width: 0pt 0pt 0.8pt 0pt;    padding: 6pt 6pt 6pt 6pt; font-weight: normal;\">698.168&nbsp;&nbsp;&nbsp;&nbsp;</td><td style=\"vertical-align: top; text-align: right; white-space: normal; border-style: solid solid solid solid; border-width: 0pt 0pt 0.8pt 0pt;    padding: 6pt 6pt 6pt 6pt; font-weight: normal;\">692.403&nbsp;&nbsp;&nbsp;&nbsp;</td></tr>\n",
       "<tr>\n",
       "<th colspan=\"4\" style=\"vertical-align: top; text-align: left; white-space: normal; border-style: solid solid solid solid; border-width: 0.8pt 0pt 0pt 0pt;    padding: 6pt 6pt 6pt 6pt; font-weight: normal;\"> *** p &lt; 0.001;  ** p &lt; 0.01;  * p &lt; 0.05.</th></tr>\n",
       "</table>\n"
      ]
     }
    }
   ],
   "source": [
    "huxreg(\"OLS\" = fit.ols, \"Spatial AR\" = fit.lag, \"Spatial Error\" = fit.err)"
   ],
   "id": "bfc61aac-149e-46da-968d-493ead046290"
  },
  {
   "cell_type": "markdown",
   "metadata": {},
   "source": [
    "## 5 Hot spots"
   ],
   "id": "aa83f2df-176a-466e-aaa0-6664f99ff48a"
  },
  {
   "cell_type": "code",
   "execution_count": null,
   "metadata": {},
   "outputs": [
    {
     "output_type": "display_data",
     "metadata": {},
     "data": {}
    }
   ],
   "source": [
    "MC.i <- localmoran_perm(complexity.reg$city_complexity, lw, nsim = 9999) \n",
    "\n",
    "MC.i.df <- MC.i |> \n",
    "  as.data.frame() \n",
    "\n",
    "complexity.reg$p <- MC.i.df$`Pr(folded) Sim`\n",
    "complexity.reg$Ii <- hotspot(MC.i, \n",
    "                              Prname = \"Pr(folded) Sim\", \n",
    "                              cutoff = 0.05, \n",
    "                              p.adjust = \"fdr\")\n",
    "complexity.reg$Ii <- factor(complexity.reg$Ii, \n",
    "                             levels = c(\"High-High\",\n",
    "                                        \"Low-Low\",\n",
    "                                        \"Low-High\", \n",
    "                                        \"High-Low\",\n",
    "                                        \">0.05\"))\n",
    "complexity.reg$Ii[is.na(complexity.reg$Ii)] <- \">0.05\"\n",
    "\n",
    "pal2 <- c( \"#FF0000\", \"#0000FF\", \"#a7adf9\", \"#f4ada8\",\"#ededed\")\n",
    "\n",
    "tm_shape(complexity.reg) + \n",
    "  tm_polygons(fill = \"Ii\",\n",
    "              fill.scale = tm_scale_categorical(values = pal2),\n",
    "              fill.legend = tm_legend(outside = TRUE, \n",
    "                                      text.size = 0.8),\n",
    "              col = \"grey80\",\n",
    "              lwd = 0.5) +\n",
    "  tm_layout(frame = FALSE) + \n",
    "  tm_facets(by = \"gcc_name_2021\")"
   ],
   "id": "cell-fig-complexity-hot-spots"
  },
  {
   "cell_type": "markdown",
   "metadata": {},
   "source": [
    "## 6 Conclusion\n",
    "\n",
    "## 7 Appendix\n",
    "\n",
    "Regional economic complexity can be calculated using other data, including employment by industry and employment by occupation.\n",
    "\n",
    "### 7.1 Other Employment Indicators"
   ],
   "id": "b3b278c5-bfce-4562-b787-45b21fe5e815"
  },
  {
   "cell_type": "code",
   "execution_count": null,
   "metadata": {},
   "outputs": [
    {
     "output_type": "stream",
     "name": "stderr",
     "text": [
      "Reading sa3_indp4 file found in data"
     ]
    },
    {
     "output_type": "stream",
     "name": "stderr",
     "text": [
      "Reading sa3_occp4 file found in data"
     ]
    }
   ],
   "source": [
    "industry_sa3 <- read_complexitydata(\"sa3_indp4\", export_dir = \"data\") |> \n",
    "  mutate(year = 2021) |> \n",
    "  filter(!str_detect(indp, \"[A-S]|&&&&|@@@@\"))"
   ],
   "id": "745a8e83-00da-4299-8cfd-7c8856c23fe0"
  },
  {
   "cell_type": "markdown",
   "metadata": {},
   "source": [
    "Employment density is much sparser when using 4-digit industry of employment data. Only 48 of the industry class-region combinations contain any level of employment."
   ],
   "id": "137a1e18-28b1-497e-9d73-0dd20385afd2"
  },
  {
   "cell_type": "code",
   "execution_count": null,
   "metadata": {},
   "outputs": [
    {
     "output_type": "stream",
     "name": "stderr",
     "text": [
      "Warning: package 'patchwork' was built under R version 4.4.1"
     ]
    },
    {
     "output_type": "display_data",
     "metadata": {},
     "data": {}
    }
   ],
   "source": [
    "library(patchwork)"
   ],
   "id": "cell-fig-employment-density-classifications"
  },
  {
   "cell_type": "code",
   "execution_count": null,
   "metadata": {},
   "outputs": [
    {
     "output_type": "stream",
     "name": "stderr",
     "text": [
      "most complex activity: 6931"
     ]
    },
    {
     "output_type": "stream",
     "name": "stderr",
     "text": [
      "most complex city: Cottesloe - Claremont"
     ]
    },
    {
     "output_type": "stream",
     "name": "stderr",
     "text": [
      "Joining with `by = join_by(sa3)`\n",
      "Joining with `by = join_by(indp)`"
     ]
    },
    {
     "output_type": "stream",
     "name": "stderr",
     "text": [
      "most complex activity: Human Resource Managers\n",
      "most complex city: North Sydney - Mosman\n",
      "Joining with `by = join_by(sa3)`Joining with `by = join_by(occp)`"
     ]
    },
    {
     "output_type": "display_data",
     "metadata": {},
     "data": {
      "image/png": "[encoded data removed]"
     }
    }
   ],
   "source": [
    "#|label: city-complexity-industry\n",
    "\n",
    "industry_sa3 <- industry_sa3 |> \n",
    "  group_by(indp) |> \n",
    "  mutate(indp_size = sum(count)) |> \n",
    "  filter(indp_size > 0) |> \n",
    "  ungroup()\n",
    "\n",
    "m <- industry_sa3 |> \n",
    "  pivot_wider(id_cols = sa3,\n",
    "              names_from = indp,\n",
    "              values_from = count) |> \n",
    "  column_to_rownames(var = \"sa3\") |> \n",
    "  as.matrix()\n",
    "\n",
    "complexity$indp4 <- complexity_nz(m, industry_sa3)"
   ],
   "id": "cb539208-719e-40aa-9462-0a0ca0e393f5"
  },
  {
   "cell_type": "code",
   "execution_count": null,
   "metadata": {},
   "outputs": [
    {
     "output_type": "stream",
     "name": "stderr",
     "text": [
      "Joining with `by = join_by(sa3)`"
     ]
    }
   ],
   "source": [
    "complexity.reg.all <- complexity.reg |> \n",
    "  inner_join(distinct(complexity$indp4, sa3, indp_complexity = city_complexity), by = \"sa3\") |> \n",
    "  inner_join(distinct(complexity$occp4, sa3, occp_complexity = city_complexity))"
   ],
   "id": "42a9f07a-63b8-4340-8497-faf54d4c0ffa"
  },
  {
   "cell_type": "markdown",
   "metadata": {},
   "source": [
    "### 7.2 Smaller Areas"
   ],
   "id": "783e90d4-b498-428e-beb8-fa4cb5d483b6"
  },
  {
   "cell_type": "code",
   "execution_count": null,
   "metadata": {},
   "outputs": [
    {
     "output_type": "stream",
     "name": "stderr",
     "text": [
      "Reading sa2_indp1_occp1 file found in data"
     ]
    },
    {
     "output_type": "stream",
     "name": "stderr",
     "text": [
      "Coordinate system already present. Adding new coordinate system, which will\n",
      "replace the existing one."
     ]
    },
    {
     "output_type": "display_data",
     "metadata": {},
     "data": {}
    }
   ],
   "source": [
    "industry_occupation_sa2 <- read_complexitydata(\"sa2_indp1_occp1\", export_dir = \"data\")|> \n",
    "  filter(!str_detect(sa2, \"POW|Migratory\")) |> \n",
    "  mutate(anzsic_division = fct_inorder(anzsic_division), \n",
    "         anzsco_major = fct_inorder(anzsco_major), \n",
    "         industry_occupation = paste0(anzsic_division, \" (\", anzsco_major, \")\"),\n",
    "         industry_occupation = fct_inorder(industry_occupation)) |> \n",
    "  group_by(sa2, industry_occupation) |> \n",
    "  summarise(count = sum(count), .groups = \"drop\") |> \n",
    "  group_by(sa2) |> \n",
    "  mutate(sa2_size = sum(count)) |> \n",
    "  group_by(industry_occupation) |> \n",
    "  mutate(industry_occupation_size = sum(count)) |> \n",
    "  ungroup() |> \n",
    "  filter(sa2_size > 0,\n",
    "         industry_occupation_size > 0)"
   ],
   "id": "cell-fig-employment-density-sa2"
  },
  {
   "cell_type": "code",
   "execution_count": null,
   "metadata": {},
   "outputs": [
    {
     "output_type": "stream",
     "name": "stderr",
     "text": [
      "most complex activity: Professional, Scientific and Technical Services (Professionals)"
     ]
    },
    {
     "output_type": "stream",
     "name": "stderr",
     "text": [
      "most complex city: Ashburton (Vic.)"
     ]
    },
    {
     "output_type": "stream",
     "name": "stderr",
     "text": [
      "Joining with `by = join_by(sa2)`\n",
      "Joining with `by = join_by(industry_occupation)`"
     ]
    },
    {
     "output_type": "stream",
     "name": "stderr",
     "text": [
      "Reading sa22021 file found in data"
     ]
    },
    {
     "output_type": "display_data",
     "metadata": {},
     "data": {
      "image/png": "[encoded data removed]"
     }
    }
   ],
   "source": [
    "m <- industry_occupation_sa2 |> \n",
    "  pivot_wider(id_cols = sa2, \n",
    "              names_from = industry_occupation,\n",
    "              values_from = count) |> \n",
    "  column_to_rownames(var = \"sa2\") |> \n",
    "  as.matrix()\n",
    "\n",
    "complexity_small <- complexity_nz(m, industry_occupation_sa2)"
   ],
   "id": "f072bd32-5085-47a7-900f-a902b9e2f9a9"
  },
  {
   "cell_type": "markdown",
   "metadata": {},
   "source": [
    "## References\n",
    "\n",
    "Adam, Antonis, Antonios Garas, Marina-Selini Katsaiti, and Athanasios Lapatinas. 2023. “Economic Complexity and Jobs: An Empirical Analysis.” *Economics of Innovation and New Technology* 32 (1): 25–52. <https://doi.org/10.1080/10438599.2020.1859751>.\n",
    "\n",
    "Balland, Pierre-Alexandre, and Ron Boschma. 2021. “Mapping the Potentials of Regions in Europe to Contribute to New Knowledge Production in Industry 4.0 Technologies.” *Regional Studies* 55 (10-11): 1652–66. <https://doi.org/10.1080/00343404.2021.1900557>.\n",
    "\n",
    "Chávez, Juan Carlos, Marco T. Mosqueda, and Manuel Gómez-Zaldívar. 2017. “Economic Complexity and Regional Growth Performance: Evidence from the Mexican Economy.” *Review of Regional Studies* 47 (2): 201–19. <https://doi.org/10.52324/001c.8023>.\n",
    "\n",
    "Davies, Benjamin, and David C. Maré. 2021. “Relatedness, Complexity and Local Growth.” *Regional Studies* 55 (3): 479–94. <https://doi.org/10.1080/00343404.2020.1802418>.\n",
    "\n",
    "Fritz, Benedikt S. L., and Robert A. Manduca. 2021. “The Economic Complexity of US Metropolitan Areas.” *Regional Studies* 55 (7): 1299–1310. <https://doi.org/10.1080/00343404.2021.1884215>.\n",
    "\n",
    "Gao, Jian, and Tao Zhou. 2018. “Quantifying China’s Regional Economic Complexity.” *Physica A: Statistical Mechanics and Its Applications* 492: 1591–1603. https://doi.org/<https://doi.org/10.1016/j.physa.2017.11.084>.\n",
    "\n",
    "Guevara, Miguel R., Dominik Hartmann, Manuel Aristarán, Marcelo Mendoza, and César A. Hidalgo. 2016. “The Research Space: Using Career Paths to Predict the Evolution of the Research Output of Individuals, Institutions, and Nations.” *Scientometrics* 109 (3): 1695–1709. <https://doi.org/10.1007/s11192-016-2125-9>.\n",
    "\n",
    "Hartmann, Dominik, Miguel R. Guevara, Cristian Jara-Figueroa, Manuel Aristarán, and César A. Hidalgo. 2017. “Linking Economic Complexity, Institutions, and Income Inequality.” *World Development* 93 (May): 75–93. <https://doi.org/10.1016/j.worlddev.2016.12.020>.\n",
    "\n",
    "Hidalgo, C. A., B. Klinger, A.-L. Barabaśi, and R. Hausmann. 2007. “The Product Space Conditions the Development of Nations.” *Science* 317 (5837): 482–87. <https://doi.org/10.1126/science.1144581>.\n",
    "\n",
    "Hidalgo, César A., and Ricardo Hausmann. 2009. “The Building Blocks of Economic Complexity.” *Proceedings of the National Academy of Sciences* 106 (26): 10570–75. <https://doi.org/10.1073/pnas.0900943106>.\n",
    "\n",
    "Kogler, Dieter F., David L. Rigby, and Isaac Tucker. 2013. “Mapping Knowledge Space and Technological Relatedness in US Cities.” *European Planning Studies* 21 (9): 1374–91. <https://doi.org/10.1080/09654313.2012.755832>.\n",
    "\n",
    "Muneepeerakul, Rachata, José Lobo, Shade T. Shutters, Andrés Goméz-Liévano, and Murad R. Qubbaj. 2013. “Urban Economies and Occupation Space: Can They Get “There” from “Here”?” Edited by César A. Hidalgo. *PLoS ONE* 8 (9): e73676. <https://doi.org/10.1371/journal.pone.0073676>.\n",
    "\n",
    "Neffke, Frank, and Martin Henning. 2012. “Skill Relatedness and Firm Diversification.” *Strategic Management Journal* 34 (3): 297–316. <https://doi.org/10.1002/smj.2014>.\n",
    "\n",
    "Reynolds, Christian, Manju Agrawal, Ivan Lee, Chen Zhan, Jiuyong Li, Phillip Taylor, Tim Mares, Julian Morison, Nicholas Angelakis, and Göran Roos. 2018. “A Sub-National Economic Complexity Analysis of Australia’s States and Territories.” *Regional Studies* 52 (5): 715–26. <https://doi.org/10.1080/00343404.2017.1283012>.\n",
    "\n",
    "Romero, João P., and Camila Gramkow. 2021. “Economic Complexity and Greenhouse Gas Emissions.” *World Development* 139 (March): 105317. <https://doi.org/10.1016/j.worlddev.2020.105317>."
   ],
   "id": "81fb6fd6-f127-4f2e-945b-1e093d586d94"
  }
 ],
 "nbformat": 4,
 "nbformat_minor": 5,
 "metadata": {}
}
